{
 "cells": [
  {
   "cell_type": "markdown",
   "metadata": {},
   "source": [
    "# Lab Four: The Multi-Layer Perceptron\n",
    "\n",
    "Team: Miro Ronac, Kirk Watson, Brandon Vincitore"
   ]
  },
  {
   "cell_type": "markdown",
   "metadata": {},
   "source": [
    "## 1. Load, Split, and Balance"
   ]
  },
  {
   "cell_type": "markdown",
   "metadata": {},
   "source": [
    "### Load Dataset"
   ]
  },
  {
   "cell_type": "code",
   "execution_count": 1,
   "metadata": {},
   "outputs": [
    {
     "name": "stdout",
     "output_type": "stream",
     "text": [
      "Dataset Size: 74001\n",
      "Size after removing missing data: 72718\n",
      "Columns to encode as integers:  State County\n"
     ]
    },
    {
     "data": {
      "text/html": [
       "<div>\n",
       "<style scoped>\n",
       "    .dataframe tbody tr th:only-of-type {\n",
       "        vertical-align: middle;\n",
       "    }\n",
       "\n",
       "    .dataframe tbody tr th {\n",
       "        vertical-align: top;\n",
       "    }\n",
       "\n",
       "    .dataframe thead th {\n",
       "        text-align: right;\n",
       "    }\n",
       "</style>\n",
       "<table border=\"1\" class=\"dataframe\">\n",
       "  <thead>\n",
       "    <tr style=\"text-align: right;\">\n",
       "      <th></th>\n",
       "      <th>State</th>\n",
       "      <th>TotalPop</th>\n",
       "      <th>Men</th>\n",
       "      <th>Women</th>\n",
       "      <th>Hispanic</th>\n",
       "      <th>White</th>\n",
       "      <th>Black</th>\n",
       "      <th>Native</th>\n",
       "      <th>Asian</th>\n",
       "      <th>Pacific</th>\n",
       "      <th>...</th>\n",
       "      <th>Walk</th>\n",
       "      <th>OtherTransp</th>\n",
       "      <th>WorkAtHome</th>\n",
       "      <th>MeanCommute</th>\n",
       "      <th>Employed</th>\n",
       "      <th>PrivateWork</th>\n",
       "      <th>PublicWork</th>\n",
       "      <th>SelfEmployed</th>\n",
       "      <th>FamilyWork</th>\n",
       "      <th>Unemployment</th>\n",
       "    </tr>\n",
       "  </thead>\n",
       "  <tbody>\n",
       "    <tr>\n",
       "      <th>0</th>\n",
       "      <td>0</td>\n",
       "      <td>1845</td>\n",
       "      <td>899</td>\n",
       "      <td>946</td>\n",
       "      <td>2.4</td>\n",
       "      <td>86.3</td>\n",
       "      <td>5.2</td>\n",
       "      <td>0.0</td>\n",
       "      <td>1.2</td>\n",
       "      <td>0.0</td>\n",
       "      <td>...</td>\n",
       "      <td>0.5</td>\n",
       "      <td>0.0</td>\n",
       "      <td>2.1</td>\n",
       "      <td>24.5</td>\n",
       "      <td>881</td>\n",
       "      <td>74.2</td>\n",
       "      <td>21.2</td>\n",
       "      <td>4.5</td>\n",
       "      <td>0.0</td>\n",
       "      <td>4.6</td>\n",
       "    </tr>\n",
       "    <tr>\n",
       "      <th>1</th>\n",
       "      <td>0</td>\n",
       "      <td>2172</td>\n",
       "      <td>1167</td>\n",
       "      <td>1005</td>\n",
       "      <td>1.1</td>\n",
       "      <td>41.6</td>\n",
       "      <td>54.5</td>\n",
       "      <td>0.0</td>\n",
       "      <td>1.0</td>\n",
       "      <td>0.0</td>\n",
       "      <td>...</td>\n",
       "      <td>0.0</td>\n",
       "      <td>0.5</td>\n",
       "      <td>0.0</td>\n",
       "      <td>22.2</td>\n",
       "      <td>852</td>\n",
       "      <td>75.9</td>\n",
       "      <td>15.0</td>\n",
       "      <td>9.0</td>\n",
       "      <td>0.0</td>\n",
       "      <td>3.4</td>\n",
       "    </tr>\n",
       "    <tr>\n",
       "      <th>2</th>\n",
       "      <td>0</td>\n",
       "      <td>3385</td>\n",
       "      <td>1533</td>\n",
       "      <td>1852</td>\n",
       "      <td>8.0</td>\n",
       "      <td>61.4</td>\n",
       "      <td>26.5</td>\n",
       "      <td>0.6</td>\n",
       "      <td>0.7</td>\n",
       "      <td>0.4</td>\n",
       "      <td>...</td>\n",
       "      <td>1.0</td>\n",
       "      <td>0.8</td>\n",
       "      <td>1.5</td>\n",
       "      <td>23.1</td>\n",
       "      <td>1482</td>\n",
       "      <td>73.3</td>\n",
       "      <td>21.1</td>\n",
       "      <td>4.8</td>\n",
       "      <td>0.7</td>\n",
       "      <td>4.7</td>\n",
       "    </tr>\n",
       "    <tr>\n",
       "      <th>3</th>\n",
       "      <td>0</td>\n",
       "      <td>4267</td>\n",
       "      <td>2001</td>\n",
       "      <td>2266</td>\n",
       "      <td>9.6</td>\n",
       "      <td>80.3</td>\n",
       "      <td>7.1</td>\n",
       "      <td>0.5</td>\n",
       "      <td>0.2</td>\n",
       "      <td>0.0</td>\n",
       "      <td>...</td>\n",
       "      <td>1.5</td>\n",
       "      <td>2.9</td>\n",
       "      <td>2.1</td>\n",
       "      <td>25.9</td>\n",
       "      <td>1849</td>\n",
       "      <td>75.8</td>\n",
       "      <td>19.7</td>\n",
       "      <td>4.5</td>\n",
       "      <td>0.0</td>\n",
       "      <td>6.1</td>\n",
       "    </tr>\n",
       "    <tr>\n",
       "      <th>4</th>\n",
       "      <td>0</td>\n",
       "      <td>9965</td>\n",
       "      <td>5054</td>\n",
       "      <td>4911</td>\n",
       "      <td>0.9</td>\n",
       "      <td>77.5</td>\n",
       "      <td>16.4</td>\n",
       "      <td>0.0</td>\n",
       "      <td>3.1</td>\n",
       "      <td>0.0</td>\n",
       "      <td>...</td>\n",
       "      <td>0.8</td>\n",
       "      <td>0.3</td>\n",
       "      <td>0.7</td>\n",
       "      <td>21.0</td>\n",
       "      <td>4787</td>\n",
       "      <td>71.4</td>\n",
       "      <td>24.1</td>\n",
       "      <td>4.5</td>\n",
       "      <td>0.0</td>\n",
       "      <td>2.3</td>\n",
       "    </tr>\n",
       "  </tbody>\n",
       "</table>\n",
       "<p>5 rows × 34 columns</p>\n",
       "</div>"
      ],
      "text/plain": [
       "   State  TotalPop   Men  Women  Hispanic  White  Black  Native  Asian  \\\n",
       "0      0      1845   899    946       2.4   86.3    5.2     0.0    1.2   \n",
       "1      0      2172  1167   1005       1.1   41.6   54.5     0.0    1.0   \n",
       "2      0      3385  1533   1852       8.0   61.4   26.5     0.6    0.7   \n",
       "3      0      4267  2001   2266       9.6   80.3    7.1     0.5    0.2   \n",
       "4      0      9965  5054   4911       0.9   77.5   16.4     0.0    3.1   \n",
       "\n",
       "   Pacific  ...  Walk  OtherTransp  WorkAtHome  MeanCommute  Employed  \\\n",
       "0      0.0  ...   0.5          0.0         2.1         24.5       881   \n",
       "1      0.0  ...   0.0          0.5         0.0         22.2       852   \n",
       "2      0.4  ...   1.0          0.8         1.5         23.1      1482   \n",
       "3      0.0  ...   1.5          2.9         2.1         25.9      1849   \n",
       "4      0.0  ...   0.8          0.3         0.7         21.0      4787   \n",
       "\n",
       "   PrivateWork  PublicWork  SelfEmployed  FamilyWork  Unemployment  \n",
       "0         74.2        21.2           4.5         0.0           4.6  \n",
       "1         75.9        15.0           9.0         0.0           3.4  \n",
       "2         73.3        21.1           4.8         0.7           4.7  \n",
       "3         75.8        19.7           4.5         0.0           6.1  \n",
       "4         71.4        24.1           4.5         0.0           2.3  \n",
       "\n",
       "[5 rows x 34 columns]"
      ]
     },
     "execution_count": 1,
     "metadata": {},
     "output_type": "execute_result"
    }
   ],
   "source": [
    "import pandas as pd\n",
    "import numpy as np\n",
    "import matplotlib.pyplot as plt\n",
    "from sklearn.preprocessing import LabelEncoder\n",
    "from sklearn.model_selection import train_test_split\n",
    "\n",
    "#Load the data into memory and save it to a pandas data frame\n",
    "df = pd.read_csv('acs2017_census_tract_data.csv')\n",
    "print('Dataset Size:', df.shape[0])\n",
    "#Remove any observations that having missing data\n",
    "df.dropna(inplace=True)\n",
    "print('Size after removing missing data:', df.shape[0])\n",
    "#Encode any string data as integers\n",
    "print('Columns to encode as integers: ', df.select_dtypes(include='object').columns[0],df.select_dtypes(include='object').columns[1])\n",
    "for col in df.select_dtypes(include='object').columns:\n",
    "    encoder = LabelEncoder()\n",
    "    df[col] = encoder.fit_transform(df[col])\n",
    "    \n",
    "#Remove non-continuous numeric feature data\n",
    "continuous_features = list(df.columns)\n",
    "for col in set([\"ChildPoverty\", \"TractId\", \"State\", \"County\"]):\n",
    "    continuous_features.remove(col)\n",
    "    \n",
    "#Set y as child poverty rate and remove unneeded columns\n",
    "y = df.ChildPoverty\n",
    "X = df.drop([\"ChildPoverty\", \"TractId\", \"County\"], axis=1)\n",
    "X.head()"
   ]
  },
  {
   "cell_type": "markdown",
   "metadata": {},
   "source": [
    "**You have the option of keeping the \"county\" variable or removing it. Be sure to discuss why you decided to keep/remove this variable.**\n",
    "\n",
    "TODO - Explain why we decided to remove the county variable and other variables\n",
    "\n",
    "(ChildPoverty b/c thats our prediction task, TractId b/c its not useful, and\n",
    "County b/c after running the nn with county still in the data, the nn couldnt converge)"
   ]
  },
  {
   "cell_type": "markdown",
   "metadata": {},
   "source": [
    "### Split Dataset"
   ]
  },
  {
   "cell_type": "code",
   "execution_count": 2,
   "metadata": {},
   "outputs": [
    {
     "name": "stdout",
     "output_type": "stream",
     "text": [
      "Training Set Size: (58174, 34)\n",
      "Testing Set Size: (14544, 34)\n"
     ]
    }
   ],
   "source": [
    "from sklearn.model_selection import train_test_split\n",
    "\n",
    "#Split the dataset into 80% for training and 20% for testing\n",
    "X_train, X_test, y_train, y_test = train_test_split(X.to_numpy(), y.to_numpy(),\n",
    "                                                    test_size=.20, random_state=42)\n",
    "print(\"Training Set Size:\",X_train.shape)\n",
    "print(\"Testing Set Size:\",X_test.shape)"
   ]
  },
  {
   "cell_type": "markdown",
   "metadata": {},
   "source": [
    "### Balance Dataset"
   ]
  },
  {
   "cell_type": "code",
   "execution_count": 3,
   "metadata": {},
   "outputs": [
    {
     "name": "stdout",
     "output_type": "stream",
     "text": [
      "Bin Quartile Ranges: [  0.    6.2  16.4  31.7 100. ]\n"
     ]
    }
   ],
   "source": [
    "# Balance the dataset so that about the same number of instances are within each class\n",
    "y_train, bins = pd.qcut(y_train, q=4, labels=[0,1,2,3], retbins=True) # constructing 4 classification levels\n",
    "print(\"Bin Quartile Ranges:\",bins)"
   ]
  },
  {
   "cell_type": "markdown",
   "metadata": {},
   "source": [
    "We balanced the dataset above by identifying 4 quartile ranges using a quantile-based discretization function from Pandas. This function is able to create equal-sized buckets of observations based on the \"ChildPoverty\" feature. This method utilized to balance the dataset creates an accurate representation of the entire dataset which is necessary when training our classifier."
   ]
  },
  {
   "cell_type": "code",
   "execution_count": 4,
   "metadata": {},
   "outputs": [
    {
     "name": "stdout",
     "output_type": "stream",
     "text": [
      "Training Bin Class Sizes: [14596 14580 14476 14522]\n"
     ]
    },
    {
     "data": {
      "image/png": "[encoded data removed]",
      "text/plain": [
       "<Figure size 360x360 with 1 Axes>"
      ]
     },
     "metadata": {},
     "output_type": "display_data"
    },
    {
     "name": "stdout",
     "output_type": "stream",
     "text": [
      "Here we can see that we did a good job of balancing our quantization for the training set.\n"
     ]
    }
   ],
   "source": [
    "# Output number of instances and plot\n",
    "print(\"Training Bin Class Sizes:\",np.bincount(y_train))\n",
    "fig = plt.figure(figsize=(5, 5))\n",
    "plt.pie(np.bincount(y_train),\n",
    "        labels=['Very low', 'Moderate', 'High', 'Very high'],\n",
    "        autopct='%.2f%%')\n",
    "plt.show()\n",
    "print('Here we can see that we did a good job of balancing our quantization for the training set.')"
   ]
  },
  {
   "cell_type": "code",
   "execution_count": 5,
   "metadata": {},
   "outputs": [
    {
     "name": "stdout",
     "output_type": "stream",
     "text": [
      "Test Bin Class Sizes: [3633 3753 3599 3559]\n"
     ]
    },
    {
     "data": {
      "image/png": "[encoded data removed]",
      "text/plain": [
       "<Figure size 360x360 with 1 Axes>"
      ]
     },
     "metadata": {},
     "output_type": "display_data"
    },
    {
     "name": "stdout",
     "output_type": "stream",
     "text": [
      "Here we can see that our test set is also balanced relatively well.\n"
     ]
    }
   ],
   "source": [
    "y_test = pd.cut(y_test, bins, labels=[0,1,2,3], include_lowest=True)\n",
    "print(\"Test Bin Class Sizes:\",np.bincount(y_test))\n",
    "fig = plt.figure(figsize=(5, 5))\n",
    "plt.pie(np.bincount(y_test),\n",
    "        labels=['Very low', 'Moderate', 'High', 'Very high'],\n",
    "        autopct='%.2f%%')\n",
    "plt.show()\n",
    "print('Here we can see that our test set is also balanced relatively well.')"
   ]
  },
  {
   "cell_type": "markdown",
   "metadata": {},
   "source": [
    "In most cases, the testing set should not be balanced while the training set should be balanced. The training set should be balanced to avoid creating biases to over-represented or under-represented classes when training the classifier. Not balancing the testing set allows for a true performance evaluation of the classifier. Testing sets represent untampered data that the classifier might experience in the real world. A balanced testing set is unrealistic and can introduce bias. We will have to work with a balanced test dataset because we need to be able to classify the test dataset within the same child poverty rate ranges as our training set (i.e., the bounds we set on each poverty rate needs to remain the same throughout our model to avoid misclassification)."
   ]
  },
  {
   "cell_type": "markdown",
   "metadata": {},
   "source": [
    "## 2. Pre-processing\n",
    "### Starting with simple base classifier"
   ]
  },
  {
   "cell_type": "code",
   "execution_count": 6,
   "metadata": {},
   "outputs": [],
   "source": [
    "# Example adapted from https://github.com/rasbt/python-machine-learning-book/blob/master/code/ch12/ch12.ipynb\n",
    "# Original Author: Sebastian Raschka\n",
    "\n",
    "import numpy as np\n",
    "from scipy.special import expit\n",
    "import pandas as pd\n",
    "import sys\n",
    "\n",
    "#A simple base classifier, which can't be fit or predicted\n",
    "#Only has internal classes to be used by classes that will subclass it\n",
    "class TwoLayerPerceptronBase(object):\n",
    "    def __init__(self, n_hidden=30,\n",
    "                 C=0.0, epochs=500, eta=0.001, random_state=None):\n",
    "        np.random.seed(random_state)\n",
    "        self.n_hidden = n_hidden\n",
    "        self.l2_C = C\n",
    "        self.epochs = epochs\n",
    "        self.eta = eta\n",
    "        \n",
    "    @staticmethod\n",
    "    def _encode_labels(y):\n",
    "        \"\"\"Encode labels into one-hot representation\"\"\"\n",
    "        onehot = pd.get_dummies(y).values.T\n",
    "            \n",
    "        return onehot\n",
    "\n",
    "    def _initialize_weights(self):\n",
    "        \"\"\"Initialize weights with small random numbers.\"\"\"\n",
    "        W1_num_elems = (self.n_features_ + 1)*self.n_hidden\n",
    "        W1 = np.random.uniform(-1.0, 1.0,size=W1_num_elems)\n",
    "        W1 = W1.reshape(self.n_hidden, self.n_features_ + 1) # reshape to be W\n",
    "        \n",
    "        W2_num_elems = (self.n_hidden + 1)*self.n_output_\n",
    "        W2 = np.random.uniform(-1.0, 1.0, size=W2_num_elems)\n",
    "        W2 = W2.reshape(self.n_output_, self.n_hidden + 1)\n",
    "        return W1, W2\n",
    "    \n",
    "    @staticmethod\n",
    "    def _sigmoid(z):\n",
    "        \"\"\"Use scipy.special.expit to avoid overflow\"\"\"\n",
    "        # 1.0 / (1.0 + np.exp(-z))\n",
    "        return expit(z)\n",
    "    \n",
    "    @staticmethod\n",
    "    def _add_bias_unit(X, how='column'):\n",
    "        \"\"\"Add bias unit (column or row of 1s) to array at index 0\"\"\"\n",
    "        if how == 'column':\n",
    "            ones = np.ones((X.shape[0], 1))\n",
    "            X_new = np.hstack((ones, X))\n",
    "        elif how == 'row':\n",
    "            ones = np.ones((1, X.shape[1]))\n",
    "            X_new = np.vstack((ones, X))\n",
    "        return X_new\n",
    "    \n",
    "    @staticmethod\n",
    "    def _L2_reg(lambda_, W1, W2):\n",
    "        \"\"\"Compute L2-regularization cost\"\"\"\n",
    "        # only compute for non-bias terms\n",
    "        return (lambda_/2.0) * np.sqrt(np.mean(W1[:, 1:] ** 2) + np.mean(W2[:, 1:] ** 2))\n",
    "    \n",
    "    def _cost(self,A3,Y_enc,W1,W2):\n",
    "        '''Get the objective function value'''\n",
    "        cost = np.mean((Y_enc-A3)**2)\n",
    "        L2_term = self._L2_reg(self.l2_C, W1, W2)\n",
    "        return cost + L2_term\n",
    "    \n",
    "    def _feedforward(self, X, W1, W2):\n",
    "        \"\"\"Compute feedforward step\n",
    "        \"\"\"\n",
    "        A1 = self._add_bias_unit(X, how='column')\n",
    "        A1 = A1.T\n",
    "        Z1 = W1 @ A1\n",
    "        A2 = self._sigmoid(Z1)\n",
    "        A2 = self._add_bias_unit(A2, how='row')\n",
    "        Z2 = W2 @ A2\n",
    "        A3 = self._sigmoid(Z2)\n",
    "        return A1, Z1, A2, Z2, A3\n",
    "    \n",
    "    def _get_gradient(self, A1, A2, A3, Z1, Z2, Y_enc, W1, W2):\n",
    "        \"\"\" Compute gradient step using backpropagation.\n",
    "        \"\"\"\n",
    "        # vectorized backpropagation\n",
    "        V2 = -2*(Y_enc-A3)*A3*(1-A3)  # last layer sensitivity\n",
    "        V1 = A2*(1-A2)*(W2.T @ V2) # back prop the sensitivity \n",
    "        \n",
    "        grad2 = V2 @ A2.T # no bias on final layer\n",
    "        grad1 = V1[1:,:] @ A1.T # dont back prop sensitivity of bias\n",
    "        \n",
    "        \n",
    "        # regularize weights that are not bias terms\n",
    "        grad1[:, 1:] += W1[:, 1:] * self.l2_C\n",
    "        grad2[:, 1:] += W2[:, 1:] * self.l2_C\n",
    "\n",
    "        return grad1, grad2\n",
    "    \n",
    "    def predict(self, X):\n",
    "        \"\"\"Predict class labels\"\"\"\n",
    "        _, _, _, _, A3 = self._feedforward(X, self.W1, self.W2)\n",
    "        y_pred = np.argmax(A3, axis=0)\n",
    "        return y_pred"
   ]
  },
  {
   "cell_type": "markdown",
   "metadata": {},
   "source": [
    "### Add mini-batch to vectorized TLP"
   ]
  },
  {
   "cell_type": "code",
   "execution_count": 7,
   "metadata": {},
   "outputs": [],
   "source": [
    "# Example from https://github.com/eclarson/MachineLearningNotebooks/blob/master/08.%20Practical_NeuralNets.ipynb\n",
    "from sklearn.metrics import accuracy_score\n",
    "\n",
    "class TLPMiniBatch(TwoLayerPerceptronBase):\n",
    "    def __init__(self, alpha=0.0, decrease_const=0.0, shuffle=True, \n",
    "                 minibatches=1, **kwds):        \n",
    "        # need to add to the original initializer \n",
    "        self.alpha = alpha\n",
    "        self.decrease_const = decrease_const\n",
    "        self.shuffle = shuffle\n",
    "        self.minibatches = minibatches\n",
    "        # but keep other keywords\n",
    "        super().__init__(**kwds)\n",
    "        \n",
    "    \n",
    "    def fit(self, X, y, print_progress=False, XY_test=None):\n",
    "        \"\"\" Learn weights from training data. With mini-batch\"\"\"\n",
    "        X_data, y_data = X.copy(), y.copy()\n",
    "        Y_enc = self._encode_labels(y)\n",
    "        \n",
    "        # init weights and setup matrices\n",
    "        self.n_features_ = X_data.shape[1]\n",
    "        self.n_output_ = Y_enc.shape[0]\n",
    "        self.W1, self.W2 = self._initialize_weights()\n",
    "\n",
    "        rho_W1_prev = np.zeros(self.W1.shape)\n",
    "        rho_W2_prev = np.zeros(self.W2.shape)\n",
    "\n",
    "        self.cost_ = []\n",
    "        self.score_ = []\n",
    "        # get starting acc\n",
    "        self.score_.append(accuracy_score(y_data,self.predict(X_data)))\n",
    "        # keep track of validation, if given\n",
    "        if XY_test is not None:\n",
    "            X_test = XY_test[0].copy()\n",
    "            y_test = XY_test[1].copy()\n",
    "            self.val_score_ = []\n",
    "            self.val_score_.append(accuracy_score(y_test,self.predict(X_test)))\n",
    "            \n",
    "        for i in range(self.epochs):\n",
    "\n",
    "            # adaptive learning rate\n",
    "            # \\frac{\\eta}{1+\\epsilon\\cdot k}\n",
    "            eta = self.eta / (1 + self.decrease_const*i)\n",
    "\n",
    "            if print_progress>0 and (i+1)%print_progress==0:\n",
    "                sys.stderr.write('\\rEpoch: %d/%d' % (i+1, self.epochs))\n",
    "                sys.stderr.flush()\n",
    "\n",
    "            if self.shuffle:\n",
    "                idx_shuffle = np.random.permutation(y_data.shape[0])\n",
    "                X_data, Y_enc, y_data = X_data[idx_shuffle], Y_enc[:, idx_shuffle], y_data[idx_shuffle]\n",
    "\n",
    "            mini = np.array_split(range(y_data.shape[0]), self.minibatches)\n",
    "            mini_cost = []\n",
    "            for idx in mini:\n",
    "\n",
    "                # feedforward\n",
    "                A1, Z1, A2, Z2, A3 = self._feedforward(X_data[idx],\n",
    "                                                       self.W1,\n",
    "                                                       self.W2)\n",
    "                \n",
    "                cost = self._cost(A3,Y_enc[:, idx],self.W1,self.W2)\n",
    "                mini_cost.append(cost) # this appends cost of mini-batch only\n",
    "\n",
    "                # compute gradient via backpropagation\n",
    "                grad1, grad2 = self._get_gradient(A1=A1, A2=A2, A3=A3, Z1=Z1, Z2=Z2, \n",
    "                                                  Y_enc=Y_enc[:, idx],\n",
    "                                                  W1=self.W1,W2=self.W2)\n",
    "\n",
    "                # momentum calculations\n",
    "                rho_W1, rho_W2 = eta * grad1, eta * grad2\n",
    "                self.W1 -= (rho_W1 + (self.alpha * rho_W1_prev))\n",
    "                self.W2 -= (rho_W2 + (self.alpha * rho_W2_prev))\n",
    "                rho_W1_prev, rho_W2_prev = rho_W1, rho_W2\n",
    "\n",
    "            self.cost_.append(mini_cost)\n",
    "            self.score_.append(accuracy_score(y_data,self.predict(X_data)))\n",
    "            if XY_test is not None:\n",
    "                self.val_score_.append(accuracy_score(y_test,self.predict(X_test)))\n",
    "            \n",
    "        return self"
   ]
  },
  {
   "cell_type": "markdown",
   "metadata": {},
   "source": [
    "### Now implement cross entropy by updating cost function and change V2 in gradient calculation"
   ]
  },
  {
   "cell_type": "code",
   "execution_count": 8,
   "metadata": {},
   "outputs": [],
   "source": [
    "# Example from https://github.com/eclarson/MachineLearningNotebooks/blob/master/08.%20Practical_NeuralNets.ipynb\n",
    "class TLPMiniBatchCrossEntropy(TLPMiniBatch):\n",
    "    def _cost(self,A3,Y_enc,W1,W2):\n",
    "        '''Get the objective function value'''\n",
    "        cost = -np.mean(np.nan_to_num((Y_enc*np.log(A3)+(1-Y_enc)*np.log(1-A3))))\n",
    "        L2_term = self._L2_reg(self.l2_C, W1, W2)\n",
    "        return cost + L2_term\n",
    "    \n",
    "    def _get_gradient(self, A1, A2, A3, Z1, Z2, Y_enc, W1, W2):\n",
    "        \"\"\" Compute gradient step using backpropagation.\n",
    "        \"\"\"\n",
    "        # vectorized backpropagation\n",
    "        V2 = (A3-Y_enc) # <- this is only line that changed\n",
    "        V1 = A2*(1-A2)*(W2.T @ V2)\n",
    "        \n",
    "        grad2 = V2 @ A2.T\n",
    "        grad1 = V1[1:,:] @ A1.T\n",
    "        \n",
    "        # regularize weights that are not bias terms\n",
    "        grad1[:, 1:] += W1[:, 1:] * self.l2_C\n",
    "        grad2[:, 1:] += W2[:, 1:] * self.l2_C\n",
    "\n",
    "        return grad1, grad2"
   ]
  },
  {
   "cell_type": "markdown",
   "metadata": {},
   "source": [
    "### Last step is proper utilization of Glorot initialization"
   ]
  },
  {
   "cell_type": "code",
   "execution_count": 9,
   "metadata": {},
   "outputs": [],
   "source": [
    "# Example from https://github.com/eclarson/MachineLearningNotebooks/blob/master/08.%20Practical_NeuralNets.ipynb\n",
    "class TLPBetterInitial(TLPMiniBatchCrossEntropy):             \n",
    "    def _initialize_weights(self):\n",
    "        \"\"\"Initialize weights Glorot and He normalization.\"\"\"\n",
    "        init_bound = 4*np.sqrt(6. / (self.n_hidden + self.n_features_ + 1))\n",
    "        W1 = np.random.uniform(-init_bound, init_bound,(self.n_hidden, self.n_features_ + 1))\n",
    "        W1[:,:1] = 0\n",
    "        \n",
    "        # reduce the final layer magnitude in order to balance the size of the gradients\n",
    "        # between \n",
    "        init_bound = 4*np.sqrt(6 / (self.n_output_ + self.n_hidden + 1))\n",
    "        W2 = np.random.uniform(-init_bound, init_bound,(self.n_output_, self.n_hidden + 1)) \n",
    "        W2[:,:1] = 0\n",
    "        \n",
    "        return W1, W2"
   ]
  },
  {
   "cell_type": "markdown",
   "metadata": {},
   "source": [
    "### Quantify Performance"
   ]
  },
  {
   "cell_type": "code",
   "execution_count": 10,
   "metadata": {},
   "outputs": [],
   "source": [
    "from sklearn.metrics import accuracy_score\n",
    "import matplotlib.pyplot as plt\n",
    "%matplotlib inline\n",
    "\n",
    "plt.style.use('ggplot')\n",
    "\n",
    "def print_result(nn,X_train,y_train,X_test,y_test,title=\"\",color=\"red\"):\n",
    "    \n",
    "    print(\"=================\")\n",
    "    print(title,\":\")\n",
    "    yhat = nn.predict(X_train)\n",
    "    print('Resubstitution acc:',accuracy_score(y_train,yhat))\n",
    "    \n",
    "    yhat = nn.predict(X_test)\n",
    "    print('Validation acc:',accuracy_score(y_test,yhat))\n",
    "    \n",
    "    if hasattr(nn,'val_score_'):\n",
    "        plt.plot(range(len(nn.val_score_)), nn.val_score_, color=color,label=title)\n",
    "        plt.ylabel('Validation Accuracy')\n",
    "    else:\n",
    "        plt.plot(range(len(nn.score_)), nn.score_, color=color,label=title)\n",
    "        plt.ylabel('Resub Accuracy')\n",
    "        \n",
    "    plt.xlabel('Epochs')\n",
    "    plt.tight_layout()\n",
    "    plt.legend(loc='best')\n",
    "    plt.grid(True)"
   ]
  },
  {
   "cell_type": "code",
   "execution_count": 11,
   "metadata": {},
   "outputs": [
    {
     "name": "stderr",
     "output_type": "stream",
     "text": [
      "Epoch: 50/50"
     ]
    },
    {
     "name": "stdout",
     "output_type": "stream",
     "text": [
      "CPU times: total: 2min 41s\n",
      "Wall time: 13.5 s\n",
      "=================\n",
      "Not normalized or one-hot encoded data :\n",
      "Resubstitution acc: 0.24954447003816138\n",
      "Validation acc: 0.24443069306930693\n"
     ]
    },
    {
     "data": {
      "image/png": "[encoded data removed]",
      "text/plain": [
       "<Figure size 432x288 with 1 Axes>"
      ]
     },
     "metadata": {},
     "output_type": "display_data"
    }
   ],
   "source": [
    "vals = { 'n_hidden':30, \n",
    "         'C':0.1, 'epochs':50, 'eta':0.001, \n",
    "         'alpha':0.001, 'decrease_const':1e-5, 'minibatches':50,\n",
    "         'shuffle':True,'random_state':1}\n",
    "#quantify performance using accuracy\n",
    "nn_better = TLPBetterInitial(**vals)\n",
    "\n",
    "%time nn_better.fit(X_train, y_train, print_progress=1, XY_test=(X_test, y_test))\n",
    "\n",
    "print_result(nn_better,X_train,y_train,X_test,y_test,title=\"Not normalized or one-hot encoded data\")\n",
    "plt.show()"
   ]
  },
  {
   "cell_type": "markdown",
   "metadata": {},
   "source": [
    "### Normalize continuous numeric feature data"
   ]
  },
  {
   "cell_type": "code",
   "execution_count": 12,
   "metadata": {},
   "outputs": [
    {
     "name": "stderr",
     "output_type": "stream",
     "text": [
      "Epoch: 50/50"
     ]
    },
    {
     "name": "stdout",
     "output_type": "stream",
     "text": [
      "CPU times: total: 52 s\n",
      "Wall time: 4.36 s\n",
      "=================\n",
      "Normalized continuous data :\n",
      "Resubstitution acc: 0.6061814556331007\n",
      "Validation acc: 0.6009350935093509\n"
     ]
    },
    {
     "data": {
      "image/png": "[encoded data removed]",
      "text/plain": [
       "<Figure size 432x288 with 1 Axes>"
      ]
     },
     "metadata": {},
     "output_type": "display_data"
    }
   ],
   "source": [
    "from sklearn.preprocessing import StandardScaler\n",
    "\n",
    "standard_scaler = StandardScaler()\n",
    "\n",
    "#normalize continuous numeric feature data\n",
    "X_normal = X.copy()\n",
    "X_normal[continuous_features] = standard_scaler.fit_transform(X_normal[continuous_features])\n",
    "#get training and testing set\n",
    "X_train_normal, X_test_normal = train_test_split(X_normal.to_numpy(),\n",
    "                                                    test_size=.20,\n",
    "                                                    random_state=42)\n",
    "#quantify performance using accuracy\n",
    "nn_better = TLPBetterInitial(**vals)\n",
    "\n",
    "%time nn_better.fit(X_train_normal, y_train, print_progress=1, XY_test=(X_test_normal, y_test))\n",
    "\n",
    "print_result(nn_better,X_train_normal,y_train,X_test_normal,y_test,title=\"Normalized continuous data\")\n",
    "plt.show()"
   ]
  },
  {
   "cell_type": "markdown",
   "metadata": {},
   "source": [
    "### Normalize continuous numeric feature data AND one hot encode categorical data"
   ]
  },
  {
   "cell_type": "code",
   "execution_count": 13,
   "metadata": {},
   "outputs": [
    {
     "name": "stderr",
     "output_type": "stream",
     "text": [
      "Epoch: 50/50"
     ]
    },
    {
     "name": "stdout",
     "output_type": "stream",
     "text": [
      "CPU times: total: 1min 7s\n",
      "Wall time: 5.63 s\n",
      "=================\n",
      "Normalized and one-hot encoded data :\n",
      "Resubstitution acc: 0.7356035342249114\n",
      "Validation acc: 0.7317106710671067\n"
     ]
    },
    {
     "data": {
      "image/png": "[encoded data removed]",
      "text/plain": [
       "<Figure size 432x288 with 1 Axes>"
      ]
     },
     "metadata": {},
     "output_type": "display_data"
    }
   ],
   "source": [
    "#get normalized continuous data\n",
    "X_normal_encoded = X_normal.copy()\n",
    "#one-hot encode categorical data aka \"State\" column\n",
    "X_normal_encoded = pd.concat([X_normal_encoded, pd.get_dummies(X_normal_encoded[\"State\"], prefix=\"State\")],axis=1)\n",
    "X_normal_encoded.drop([\"State\"], axis=1, inplace=True)\n",
    "#get training and testing set\n",
    "X_train_norm_enc, X_test_norm_enc = train_test_split(X_normal_encoded.to_numpy(),\n",
    "                                                    test_size=.20,\n",
    "                                                    random_state=42)\n",
    "#quantify performance using accuracy\n",
    "nn_better = TLPBetterInitial(**vals)\n",
    "\n",
    "%time nn_better.fit(X_train_norm_enc, y_train, print_progress=1, XY_test=(X_test_norm_enc, y_test))\n",
    "\n",
    "print_result(nn_better,X_train_norm_enc,y_train,X_test_norm_enc,y_test,title=\"Normalized and one-hot encoded data\")\n",
    "plt.show()"
   ]
  },
  {
   "cell_type": "markdown",
   "metadata": {},
   "source": [
    "### Compare performance of three models\n",
    "\n",
    "Compared to the other models, the model using the unedited dataset had the lowest performance. With 4 identification classes and accuracy of about 25%, this model performed similar to how a random class picker would perform. The low performance can be attributed to the raw dataset which has many features with wide ranges of variabilities. As a result, the model struggled to learn and successfully identify classes.\n",
    "\n",
    "The second model utilized a dataset that normalized continuous numeric features. This modification of the dataset allowed the model to have an increased performance of 60% accuracy, because normalizing the data removed the high variability in each of the continuous numeric features.\n",
    "\n",
    "The third model had the best performance with an accuracy of 73%. In addition to using normalized continuous data, this dataset had categorical data one-hot encoded. The \"State\" feature was the only categorical feature, but it had a wide range of values to account for all 50 states. One-hot encoding the states created binary features for each state which reduced bias to the original \"State\" categorical feature. After evaluating these models, normalizing continuous numeric features and one-hot encoding categorical features is necessary to have optimal performance."
   ]
  },
  {
   "cell_type": "markdown",
   "metadata": {},
   "source": [
    "## 3. Modeling\n",
    "\n",
    "### Add support for third layer in multi-layer perceptron\n",
    "\n",
    "#### Starting with simple base classifier"
   ]
  },
  {
   "cell_type": "markdown",
   "metadata": {},
   "source": [
    "TODO - Add support for a third layer in the multi-layer perceptron\n",
    "\n",
    "TODO - Add support for saving (and plotting after training is completed) the average magnitude of the gradient for each layer, for each epoch (like we did in the flipped module for back propagation)\n",
    "\n",
    "TODO - Quantify the performance of the model and graph the magnitudes for each layer versus the number of epochs\n",
    "\n",
    "TODO - repeat for 4th and 5th layer"
   ]
  },
  {
   "cell_type": "code",
   "execution_count": 14,
   "metadata": {},
   "outputs": [],
   "source": [
    "# Example adapted from https://github.com/rasbt/python-machine-learning-book/blob/master/code/ch12/ch12.ipynb\n",
    "# Original Author: Sebastian Raschka\n",
    "\n",
    "import numpy as np\n",
    "from scipy.special import expit\n",
    "import pandas as pd\n",
    "import sys\n",
    "\n",
    "#A simple base classifier, which can't be fit or predicted\n",
    "#Only has internal classes to be used by classes that will subclass it\n",
    "class MultiLayerPerceptronBase(object):\n",
    "    def __init__(self, n_hidden=30, layers=3,\n",
    "                 C=0.0, epochs=500, eta=0.001, random_state=None):\n",
    "        np.random.seed(random_state)\n",
    "        self.n_hidden = n_hidden\n",
    "        self.layers=layers\n",
    "        self.l2_C = C\n",
    "        self.epochs = epochs\n",
    "        self.eta = eta\n",
    "        \n",
    "    @staticmethod\n",
    "    def _encode_labels(y):\n",
    "        \"\"\"Encode labels into one-hot representation\"\"\"\n",
    "        onehot = pd.get_dummies(y).values.T\n",
    "            \n",
    "        return onehot\n",
    "\n",
    "    def _initialize_weights(self):\n",
    "        W=[]\n",
    "        \"\"\"Initialize weights with small random numbers.\"\"\"\n",
    "        #initialize first weights\n",
    "        W1_num_elems = (self.n_features_ + 1)*self.n_hidden\n",
    "        W1 = np.random.uniform(-1.0, 1.0,size=W1_num_elems)\n",
    "        W1 = W1.reshape(self.n_hidden, self.n_features_ + 1) # reshape to be W\n",
    "        W.append(W1)\n",
    "        #initialize middle weights\n",
    "        for i in range(self.layers - 2):\n",
    "            W_num_elems = (self.n_features_ + 1)*self.n_hidden\n",
    "            W_middle = np.random.uniform(-1.0, 1.0,size=W_num_elems)\n",
    "            W_middle = W_middle.reshape(self.n_hidden, self.n_features_ + 1) # reshape to be W CHECK HERE CHECK HERE\n",
    "            W.append(W_middle)\n",
    "        #initialize last weights\n",
    "        W2_num_elems = (self.n_hidden + 1)*self.n_output_\n",
    "        W2 = np.random.uniform(-1.0, 1.0, size=W2_num_elems)\n",
    "        W2 = W2.reshape(self.n_output_, self.n_hidden + 1)\n",
    "        W.append(W2)\n",
    "        \n",
    "        return W\n",
    "    \n",
    "    @staticmethod\n",
    "    def _sigmoid(z):\n",
    "        \"\"\"Use scipy.special.expit to avoid overflow\"\"\"\n",
    "        # 1.0 / (1.0 + np.exp(-z))\n",
    "        return expit(z)\n",
    "    \n",
    "    @staticmethod\n",
    "    def _add_bias_unit(X, how='column'):\n",
    "        \"\"\"Add bias unit (column or row of 1s) to array at index 0\"\"\"\n",
    "        if how == 'column':\n",
    "            ones = np.ones((X.shape[0], 1))\n",
    "            X_new = np.hstack((ones, X))\n",
    "        elif how == 'row':\n",
    "            ones = np.ones((1, X.shape[1]))\n",
    "            X_new = np.vstack((ones, X))\n",
    "        return X_new \n",
    "\n",
    "    @staticmethod\n",
    "    def _L2_reg(lambda_, W):\n",
    "        \"\"\"Compute L2-regularization cost\"\"\"\n",
    "        #only compute for non-bias terms\n",
    "        #from each layer get weight total\n",
    "        weight_total=0\n",
    "        for weight in W:\n",
    "            weight_total += np.mean(weight[:, 1:] ** 2)\n",
    "        return (lambda_/2.0) * np.sqrt(weight_total)\n",
    "        \n",
    "        return (lambda_/2.0) * np.sqrt(np.mean(W1[:, 1:] ** 2) + np.mean(W2[:, 1:] ** 2))\n",
    "\n",
    "    def _cost(self,A,Y_enc,W):\n",
    "        '''Get the objective function value'''\n",
    "        cost = -np.mean(np.nan_to_num(Y_enc*np.log(A[len(A) - 1])+(1-Y_enc)*np.log(1-A[len(A) - 1])))\n",
    "        L2_term = self._L2_reg(self.l2_C, W)\n",
    "        return cost + L2_term\n",
    "      \n",
    "    def _feedforward(self, X, W):\n",
    "        \"\"\"Compute feedforward step\n",
    "        \"\"\"\n",
    "        A = []\n",
    "        Z = []\n",
    "        #feed foward first layer\n",
    "        A.append(self._add_bias_unit(X, how='column').T)\n",
    "        #feed forward middle layers\n",
    "        for layer in range(self.layers - 1):\n",
    "            Z.append(W[layer] @ A[layer])\n",
    "            A_middle = self._sigmoid(Z[layer])\n",
    "            A_middle = self._add_bias_unit(A_middle, how='row')\n",
    "            A.append(A_middle)\n",
    "        #feed forward last/output layer\n",
    "        Z.append(W[len(W) - 1] @ A[len(A) - 1])\n",
    "        A.append(self._sigmoid(Z[len(Z) - 1]))\n",
    "        return A, Z\n",
    "\n",
    "    def predict(self, X):\n",
    "        \"\"\"Predict class labels\"\"\"\n",
    "        A, _ = self._feedforward(X, self.W)\n",
    "        y_pred = np.argmax(A[len(A) - 1], axis=0)\n",
    "        return y_pred"
   ]
  },
  {
   "cell_type": "markdown",
   "metadata": {},
   "source": [
    "### Add mini-batch to vectorized MLP"
   ]
  },
  {
   "cell_type": "code",
   "execution_count": 15,
   "metadata": {},
   "outputs": [],
   "source": [
    "# Example from https://github.com/eclarson/MachineLearningNotebooks/blob/master/08.%20Practical_NeuralNets.ipynb\n",
    "from sklearn.metrics import accuracy_score\n",
    "\n",
    "class MLPMiniBatch(MultiLayerPerceptronBase):\n",
    "    def __init__(self, alpha=0.0, decrease_const=0.0, shuffle=True, \n",
    "                 minibatches=1, **kwds):        \n",
    "        # need to add to the original initializer \n",
    "        self.alpha = alpha\n",
    "        self.decrease_const = decrease_const\n",
    "        self.shuffle = shuffle\n",
    "        self.minibatches = minibatches\n",
    "        # but keep other keywords\n",
    "        super().__init__(**kwds)\n",
    "    \n",
    "    def fit(self, X, y, print_progress=False, XY_test=None):\n",
    "        \"\"\" Learn weights from training data. With mini-batch\"\"\"\n",
    "        X_data, y_data = X.copy(), y.copy()\n",
    "        Y_enc = self._encode_labels(y)\n",
    "        \n",
    "        # init weights and setup matrices\n",
    "        self.n_features_ = X_data.shape[1]\n",
    "        self.n_output_ = Y_enc.shape[0]\n",
    "        self.W = self._initialize_weights()\n",
    "\n",
    "        rho_W_prev = []\n",
    "        for weight in self.W:\n",
    "            rho_W_prev.append(np.zeros(weight.shape))\n",
    "\n",
    "        self.cost_ = []\n",
    "        self.score_ = []\n",
    "        # get starting acc\n",
    "        self.score_.append(accuracy_score(y_data,self.predict(X_data)))\n",
    "        # keep track of validation, if given\n",
    "        if XY_test is not None:\n",
    "            X_test = XY_test[0].copy()\n",
    "            y_test = XY_test[1].copy()\n",
    "            self.val_score_ = []\n",
    "            self.val_score_.append(accuracy_score(y_test,self.predict(X_test)))\n",
    "            \n",
    "        #For each epoch store gradiant averages\n",
    "        gradient_averages = []\n",
    "        for _ in range(self.layers):\n",
    "            gradient_averages.append([])\n",
    "            \n",
    "        for i in range(self.epochs):\n",
    "\n",
    "            # adaptive learning rate\n",
    "            # \\frac{\\eta}{1+\\epsilon\\cdot k}\n",
    "            eta = self.eta / (1 + self.decrease_const*i)\n",
    "\n",
    "            if print_progress>0 and (i+1)%print_progress==0:\n",
    "                sys.stderr.write('\\rEpoch: %d/%d' % (i+1, self.epochs))\n",
    "                sys.stderr.flush()\n",
    "\n",
    "            if self.shuffle:\n",
    "                idx_shuffle = np.random.permutation(y_data.shape[0])\n",
    "                X_data, Y_enc, y_data = X_data[idx_shuffle], Y_enc[:, idx_shuffle], y_data[idx_shuffle]\n",
    "\n",
    "            mini = np.array_split(range(y_data.shape[0]), self.minibatches)\n",
    "            mini_cost = []\n",
    "            \n",
    "            #For each mini batch, store gradiant averages\n",
    "            gradients = []\n",
    "            for _ in range(self.layers):\n",
    "                gradients.append([])\n",
    "            \n",
    "            for idx in mini:\n",
    "\n",
    "                # feedforward\n",
    "                A, Z = self._feedforward(X_data[idx], self.W)\n",
    "                \n",
    "                cost = self._cost(A, Y_enc[:, idx], self.W)\n",
    "                mini_cost.append(cost) # this appends cost of mini-batch only\n",
    "\n",
    "                # compute gradient via backpropagation\n",
    "                gradient = self._get_gradient(A, Z, Y_enc[:, idx], self.W)\n",
    "                \n",
    "                #for each minibatch layer, get average gradient magnitudes\n",
    "                for index in range(len(gradients)):\n",
    "                    gradients[index].append(np.mean(gradient[index]))\n",
    "\n",
    "                #calc momentum\n",
    "                rho_W = [g * self.eta for g in gradient]\n",
    "                for index in range(len(rho_W)):\n",
    "                    self.W[index] -= (rho_W[index] + (self.alpha * rho_W_prev[index]))\n",
    "                rho_W_prev = rho_W\n",
    "\n",
    "            self.cost_.append(mini_cost)\n",
    "            self.score_.append(accuracy_score(y_data,self.predict(X_data)))\n",
    "            \n",
    "            if XY_test is not None:\n",
    "                self.val_score_.append(accuracy_score(y_test,self.predict(X_test)))\n",
    "                \n",
    "            #get average magnitude of the gradient for each layer\n",
    "            for index in range(len(gradient_averages)):\n",
    "                gradient_averages[index].append(np.mean(gradients[index]))\n",
    "            \n",
    "        return gradient_averages"
   ]
  },
  {
   "cell_type": "markdown",
   "metadata": {},
   "source": [
    "### Now implement cross entropy by updating cost function and change V2 in gradient calculation"
   ]
  },
  {
   "cell_type": "code",
   "execution_count": 16,
   "metadata": {},
   "outputs": [],
   "source": [
    "# Adapted example from https://github.com/eclarson/MachineLearningNotebooks/blob/master/08.%20Practical_NeuralNets.ipynb\n",
    "class MLPMiniBatchCrossEntropy(MLPMiniBatch):\n",
    "    def _cost(self,A,Y_enc,W):\n",
    "        '''Get the objective function value'''\n",
    "        cost = -np.mean(np.nan_to_num(Y_enc*np.log(A[len(A) - 1])+(1-Y_enc)*np.log(1-A[len(A) - 1])))\n",
    "        L2_term = self._L2_reg(self.l2_C, W)\n",
    "        return cost + L2_term\n",
    "\n",
    "    def _get_gradient(self, A, Z, Y_enc, W):\n",
    "        \"\"\" Compute gradient step using backpropagation.\n",
    "        \"\"\"\n",
    "        gradients = [0] * self.layers\n",
    "        V = [0] * self.layers\n",
    "\n",
    "        #vectorized backpropagation, starting with last gradient\n",
    "        V[-1] = A[-1] - Y_enc\n",
    "        gradients[-1] = V[-1] @ A[-2].T\n",
    "        gradients[-1][:, 1:] += W[-1][:, 1:] * self.l2_C\n",
    "        \n",
    "        #get gradients from last to first\n",
    "        for i in reversed(range(self.layers-1)):\n",
    "            V[i] = A[i+1]*(1-A[i+1])*(W[i+1].T @ V[i+1])\n",
    "            gradients[i] = V[i][1:,:] @ A[i].T\n",
    "            gradients[i][:, 1:] += W[i][:, 1:] * self.l2_C\n",
    "            V[i] = V[i][1:,:]\n",
    "        \n",
    "        return gradients"
   ]
  },
  {
   "cell_type": "markdown",
   "metadata": {},
   "source": [
    "### Last step is proper utilization of Glorot initialization"
   ]
  },
  {
   "cell_type": "code",
   "execution_count": 17,
   "metadata": {},
   "outputs": [],
   "source": [
    "# Adapted example from https://github.com/eclarson/MachineLearningNotebooks/blob/master/08.%20Practical_NeuralNets.ipynb\n",
    "class MLPBetterInitial(MLPMiniBatchCrossEntropy):\n",
    "    def _initialize_weights(self):\n",
    "        \"\"\"Initialize weights Glorot and He normalization.\"\"\"\n",
    "        W = []\n",
    "        #initialize weights for first layer\n",
    "        init_bound = 4*np.sqrt(6. / (self.n_hidden + self.n_features_ + 1))\n",
    "        W.append(np.random.uniform(-init_bound, init_bound,(self.n_hidden, self.n_features_ + 1)))\n",
    "        W[0][:,:1] = 0\n",
    "        #initialize weights for middle layers\n",
    "        for i in range(self.layers-2):\n",
    "            init_bound = 4*np.sqrt(6. / (2*self.n_hidden + 1))\n",
    "            W.append(np.random.uniform(-init_bound, init_bound,(self.n_hidden, self.n_hidden + 1)))\n",
    "            W[len(W) - 1][:,:1] = 0\n",
    "        #initialize weights for first layer\n",
    "        init_bound = 4*np.sqrt(6. / (self.n_output_ + self.n_hidden + 1))\n",
    "        W.append(np.random.uniform(-init_bound, init_bound,(self.n_output_, self.n_hidden + 1)))\n",
    "        W[-1][:,:1] = 0\n",
    "        \n",
    "        return W"
   ]
  },
  {
   "cell_type": "markdown",
   "metadata": {},
   "source": [
    "### Quantify Performance"
   ]
  },
  {
   "cell_type": "code",
   "execution_count": 18,
   "metadata": {},
   "outputs": [
    {
     "name": "stderr",
     "output_type": "stream",
     "text": [
      "Epoch: 50/50"
     ]
    },
    {
     "name": "stdout",
     "output_type": "stream",
     "text": [
      "CPU times: total: 1min 22s\n",
      "Wall time: 6.86 s\n",
      "=================\n",
      "3 Layer Perceptron :\n",
      "Resubstitution acc: 0.7359988998521676\n",
      "Validation acc: 0.7313668866886689\n"
     ]
    },
    {
     "data": {
      "image/png": "[encoded data removed]",
      "text/plain": [
       "<Figure size 432x288 with 1 Axes>"
      ]
     },
     "metadata": {},
     "output_type": "display_data"
    },
    {
     "data": {
      "image/png": "[encoded data removed]",
      "text/plain": [
       "<Figure size 432x288 with 1 Axes>"
      ]
     },
     "metadata": {},
     "output_type": "display_data"
    }
   ],
   "source": [
    "vals = { 'layers':3, 'n_hidden':30, \n",
    "         'C':0.1, 'epochs':50, 'eta':0.001, \n",
    "         'alpha':0.001, 'decrease_const':1e-5, 'minibatches':50,\n",
    "         'shuffle':True,'random_state':1}\n",
    "#quantify performance using accuracy\n",
    "nn_better = MLPBetterInitial(**vals)\n",
    "\n",
    "%time gradients = nn_better.fit(X_train_norm_enc, y_train, print_progress=1)\n",
    "#display accuracy performance\n",
    "print_result(nn_better,X_train_norm_enc,y_train, X_test_norm_enc, y_test,title=\"3 Layer Perceptron\")\n",
    "plt.show()\n",
    "\n",
    "#display average gradient magnitudes for each layer\n",
    "for i in range(len(gradients)):\n",
    "    plt.plot(range(len(gradients[0])), \n",
    "             gradients[i], \n",
    "             label=\"Gradient\"+str(i + 1)) \n",
    "    \n",
    "plt.ylabel('Average Magnitude of the Gradient')     \n",
    "plt.xlabel('Epochs')\n",
    "plt.tight_layout()\n",
    "plt.legend(loc='best')\n",
    "plt.grid(True)\n",
    "plt.show()"
   ]
  },
  {
   "cell_type": "markdown",
   "metadata": {},
   "source": [
    "## 4. Exceptional Work"
   ]
  },
  {
   "cell_type": "code",
   "execution_count": null,
   "metadata": {},
   "outputs": [],
   "source": []
  }
 ],
 "metadata": {
  "kernelspec": {
   "display_name": "Python 3 (ipykernel)",
   "language": "python",
   "name": "python3"
  },
  "language_info": {
   "codemirror_mode": {
    "name": "ipython",
    "version": 3
   },
   "file_extension": ".py",
   "mimetype": "text/x-python",
   "name": "python",
   "nbconvert_exporter": "python",
   "pygments_lexer": "ipython3",
   "version": "3.9.12"
  }
 },
 "nbformat": 4,
 "nbformat_minor": 2
}
