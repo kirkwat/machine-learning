{
 "cells": [
  {
   "cell_type": "markdown",
   "metadata": {},
   "source": [
    "# Lab Two: Exploring Image Data\n",
    "\n",
    "Team: Miro Ronac, Kirk Watson, Brandon Vincitore"
   ]
  },
  {
   "cell_type": "markdown",
   "metadata": {},
   "source": [
    "## 1. Business Understanding "
   ]
  },
  {
   "cell_type": "markdown",
   "metadata": {},
   "source": [
    "This data can be useful in identifying pneumonia in pediatric patients and assisting doctors with making accurate observations from X-rays.\n",
    "\n",
    "In the Guangzhou Women and Children’s Medical Center, \"chest X-ray images (anterior-posterior) were selected from retrospective cohorts of pediatric patients of one to five years old. All chest X-ray imaging was performed as part of patients’ routine clinical care.\" To ensure quality of the dataset, the \"images were graded by two expert physicians.\" This data was collected to allow engineers to train an AI system that can efficiently identify pneumonia in pediatric patients.\n",
    "\n",
    "Ultimately, the ability to identify a patient with pneumonia with increased efficiency and accuracy is the intention of analyzing this dataset. With this capability, a pneumonia diagnosis can be reached at a faster rate compared to when a human makes the diagnosis. Hospitals and clinicians with a high influx of patients (such as the Guangzhou Women and Children’s Medical Center) can make accurate diagnoses while not spending as much time observing X-rays utilizing this classifier. This can allow physicians to spend an alloted amount of time to care for a greater number of patients. In addition, medical practitioners can use this available time to examine other aspects of the X-ray or case of the patient.\n",
    "\n",
    "To evaluate the success of a machine learning algorithm for this dataset, the classifier would have to at least peform as well as a human. [As per research published with the Radiological Society of North America](https://pubs.rsna.org/doi/full/10.1148/radiol.2020200823), humans can have a 94% success rate when identifying pneumonia in patients. If this is an easy threshold for our classifier to overcome, we can compare ourselves to other competitors. [A classifier made by Rohit Kundu and his partners](https://journals.plos.org/plosone/article?id=10.1371/journal.pone.0256630) had a success rate of 98.81%.\n",
    "\n",
    "\n",
    "Dataset Source: https://www.kaggle.com/datasets/paultimothymooney/chest-xray-pneumonia"
   ]
  },
  {
   "cell_type": "markdown",
   "metadata": {},
   "source": [
    "## 2. Data Preparation"
   ]
  },
  {
   "cell_type": "code",
   "execution_count": null,
   "metadata": {},
   "outputs": [],
   "source": []
  },
  {
   "cell_type": "markdown",
   "metadata": {},
   "source": [
    "## 3. Data Reduction"
   ]
  },
  {
   "cell_type": "code",
   "execution_count": null,
   "metadata": {},
   "outputs": [],
   "source": []
  },
  {
   "cell_type": "markdown",
   "metadata": {},
   "source": [
    "## 4. Exceptional Work"
   ]
  },
  {
   "cell_type": "code",
   "execution_count": null,
   "metadata": {},
   "outputs": [],
   "source": []
  }
 ],
 "metadata": {
  "kernelspec": {
   "display_name": "Python 3 (ipykernel)",
   "language": "python",
   "name": "python3"
  },
  "language_info": {
   "codemirror_mode": {
    "name": "ipython",
    "version": 3
   },
   "file_extension": ".py",
   "mimetype": "text/x-python",
   "name": "python",
   "nbconvert_exporter": "python",
   "pygments_lexer": "ipython3",
   "version": "3.9.12"
  }
 },
 "nbformat": 4,
 "nbformat_minor": 2
}
