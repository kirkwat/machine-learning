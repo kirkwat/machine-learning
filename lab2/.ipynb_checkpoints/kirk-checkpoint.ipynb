{
 "cells": [
  {
   "cell_type": "markdown",
   "metadata": {},
   "source": [
    "# Lab Two: Exploring Image Data\n",
    "\n",
    "Team: Miro Ronac, Kirk Watson, Brandon Vincitore"
   ]
  },
  {
   "cell_type": "markdown",
   "metadata": {},
   "source": [
    "## 1. Business Understanding "
   ]
  },
  {
   "cell_type": "markdown",
   "metadata": {},
   "source": [
    "This data can be useful in identifying pneumonia in pediatric patients and assisting doctors with making accurate observations from X-rays.\n",
    "\n",
    "In the Guangzhou Women and Children’s Medical Center, \"chest X-ray images (anterior-posterior) were selected from retrospective cohorts of pediatric patients of one to five years old. All chest X-ray imaging was performed as part of patients’ routine clinical care.\" To ensure quality of the dataset, the \"images were graded by two expert physicians.\" This data was collected to allow engineers to train an AI system that can efficiently identify pneumonia in pediatric patients.\n",
    "\n",
    "Ultimately, the ability to identify a patient with pneumonia with increased efficiency and accuracy is the intention of analyzing this dataset. With this capability, a pneumonia diagnosis can be reached at a faster rate compared to when a human makes the diagnosis. Hospitals and clinicians with a high influx of patients (such as the Guangzhou Women and Children’s Medical Center) can make accurate diagnoses while not spending as much time observing X-rays utilizing this classifier. This can allow physicians to spend an alloted amount of time to care for a greater number of patients. In addition, medical practitioners can use this available time to examine other aspects of the X-ray or case of the patient.\n",
    "\n",
    "To evaluate the success of a machine learning algorithm for this dataset, the classifier would have to at least peform as well as a human. [As per research published with the Radiological Society of North America](https://pubs.rsna.org/doi/full/10.1148/radiol.2020200823), humans can have a 94% success rate when identifying pneumonia in patients. If this is an easy threshold for our classifier to overcome, we can compare ourselves to other competitors. [A classifier made by Rohit Kundu and his partners](https://journals.plos.org/plosone/article?id=10.1371/journal.pone.0256630) had a success rate of 98.81%.\n",
    "\n",
    "\n",
    "Dataset Source: https://www.kaggle.com/datasets/paultimothymooney/chest-xray-pneumonia"
   ]
  },
  {
   "cell_type": "markdown",
   "metadata": {},
   "source": [
    "## 2. Data Preparation"
   ]
  },
  {
   "cell_type": "code",
   "execution_count": 7,
   "metadata": {},
   "outputs": [],
   "source": [
    "import os\n",
    "\n",
    "import numpy as np\n",
    "\n",
    "from PIL import Image\n",
    "from numpy import asarray\n",
    "from os import listdir\n",
    "\n",
    "import warnings\n",
    "warnings.filterwarnings(\"ignore\")"
   ]
  },
  {
   "cell_type": "code",
   "execution_count": 26,
   "metadata": {},
   "outputs": [
    {
     "ename": "FileNotFoundError",
     "evalue": "[WinError 3] The system cannot find the path specified: 'chest_xray/train/NORMAL/'",
     "output_type": "error",
     "traceback": [
      "\u001b[1;31m---------------------------------------------------------------------------\u001b[0m",
      "\u001b[1;31mFileNotFoundError\u001b[0m                         Traceback (most recent call last)",
      "Input \u001b[1;32mIn [26]\u001b[0m, in \u001b[0;36m<cell line: 8>\u001b[1;34m()\u001b[0m\n\u001b[0;32m      5\u001b[0m file_names \u001b[38;5;241m=\u001b[39m []\n\u001b[0;32m      7\u001b[0m \u001b[38;5;66;03m#load normal images\u001b[39;00m\n\u001b[1;32m----> 8\u001b[0m \u001b[38;5;28;01mfor\u001b[39;00m images \u001b[38;5;129;01min\u001b[39;00m \u001b[43mos\u001b[49m\u001b[38;5;241;43m.\u001b[39;49m\u001b[43mlistdir\u001b[49m\u001b[43m(\u001b[49m\u001b[43mnormal_dir\u001b[49m\u001b[43m)\u001b[49m:\n\u001b[0;32m      9\u001b[0m     \u001b[38;5;66;03m#create image, resize to 100x100\u001b[39;00m\n\u001b[0;32m     10\u001b[0m     image \u001b[38;5;241m=\u001b[39m Image\u001b[38;5;241m.\u001b[39mopen(normal_dir \u001b[38;5;241m+\u001b[39m images)\n\u001b[0;32m     11\u001b[0m     image \u001b[38;5;241m=\u001b[39m image\u001b[38;5;241m.\u001b[39mresize((\u001b[38;5;241m100\u001b[39m,\u001b[38;5;241m100\u001b[39m))\n",
      "\u001b[1;31mFileNotFoundError\u001b[0m: [WinError 3] The system cannot find the path specified: 'chest_xray/train/NORMAL/'"
     ]
    }
   ],
   "source": [
    "normal_dir = \"chest_xray/train/NORMAL/\"\n",
    "pneumonia_dir = \"chest_xray/train/PNEUMONIA/\"\n",
    "\n",
    "data = []\n",
    "file_names = []\n",
    "\n",
    "#load normal images\n",
    "for images in os.listdir(normal_dir):\n",
    "    #create image, resize to 100x100\n",
    "    image = Image.open(normal_dir + images)\n",
    "    image = image.resize((100,100))\n",
    "    #convert image to numpy array and flatten\n",
    "    data_i = asarray(image)\n",
    "    feature_i = data_i.flatten()\n",
    "    #add image to list of images\n",
    "    data.append(feature_i)\n",
    "    #extract file name\n",
    "    _, fname = os.path.split(images)\n",
    "    file_names.append(fname)\n",
    "    \n",
    "#load pneumonia images images\n",
    "for images in os.listdir(pneumonia_dir):\n",
    "    #create image, resize to 100x100\n",
    "    image = Image.open(pneumonia_dir + images)\n",
    "    image = image.resize((100,100))\n",
    "    #convert image to numpy array and flatten\n",
    "    data_i = asarray(image)\n",
    "    feature_i = data_i.flatten()\n",
    "    #add image to list of images\n",
    "    data.append(feature_i)\n",
    "    #extract file name\n",
    "    _, fname = os.path.split(images)\n",
    "    file_names.append(fname)\n",
    "    \n",
    "data = np.array(data)\n",
    "print(data.shape[0], 'total images with', data.shape[1], 'features')\n",
    "print('Number of file names:', len(file_names))\n",
    "\n",
    "\n",
    "def load_data(path):\n",
    "    files = glob.glob(path)\n",
    "    \n",
    "    data = []\n",
    "    f_name = []\n",
    "    for images in os.listdir(folder_dir):\n",
    "        #create image, resize to 100x100\n",
    "        image = Image.open(folder_dir + images)\n",
    "        image = image.resize((100,100))\n",
    "        #convert image to numpy array and flatten\n",
    "        data_i = asarray(image)\n",
    "        feature_i = data_i.flatten()\n",
    "        #add image to list of images\n",
    "        data.append(feature_i)\n",
    "        #extract file name\n",
    "        _, fname = os.path.split(images)\n",
    "        f_name.append(fname)\n",
    "    \n",
    "    #return list of preprocessed-flattened images, file names, and their classification\n",
    "    return np.asarray(data), f_name\n",
    "\n",
    "#load normal images\n",
    "#normal_list, f_names_normal = load_data(normal_dir)\n",
    "#load pneumonia images\n",
    "#pneumonia_list, f_names_pneumonia = load_data(pneumonia_dir)\n",
    "\n",
    "#print(normal_list.shape[0], 'normal images with', normal_list.shape[1], 'features')\n",
    "#print(pneumonia_list.shape[0], 'pneumonia images with', pneumonia_list.shape[1], 'features')\n",
    "\n",
    "#combine data\n",
    "#data = np.concatenate((normal_list, pneumonia_list), axis=0)\n",
    "#names = f_names_normal + f_names_pneumonia\n",
    "\n",
    "#print(data.shape[0], 'total images with', data.shape[1], 'features')\n",
    "#print('Number of file names:', len(names))"
   ]
  },
  {
   "cell_type": "markdown",
   "metadata": {},
   "source": [
    "TYPE HERE"
   ]
  },
  {
   "cell_type": "code",
   "execution_count": 27,
   "metadata": {},
   "outputs": [
    {
     "ename": "NameError",
     "evalue": "name 'X' is not defined",
     "output_type": "error",
     "traceback": [
      "\u001b[1;31m---------------------------------------------------------------------------\u001b[0m",
      "\u001b[1;31mNameError\u001b[0m                                 Traceback (most recent call last)",
      "Input \u001b[1;32mIn [27]\u001b[0m, in \u001b[0;36m<cell line: 13>\u001b[1;34m()\u001b[0m\n\u001b[0;32m     10\u001b[0m         plt\u001b[38;5;241m.\u001b[39mxticks(())\n\u001b[0;32m     11\u001b[0m         plt\u001b[38;5;241m.\u001b[39myticks(())\n\u001b[1;32m---> 13\u001b[0m plot_gallery(\u001b[43mX\u001b[49m, names[y], h, w)\n",
      "\u001b[1;31mNameError\u001b[0m: name 'X' is not defined"
     ]
    }
   ],
   "source": [
    "# a helper plotting function\n",
    "def plot_gallery(images, titles, h, w, n_row=3, n_col=6):\n",
    "    \"\"\"Helper function to plot a gallery of portraits\"\"\"\n",
    "    plt.figure(figsize=(1.7 * n_col, 2.3 * n_row))\n",
    "    plt.subplots_adjust(bottom=0, left=.01, right=.99, top=.90, hspace=.35)\n",
    "    for i in range(n_row * n_col):\n",
    "        plt.subplot(n_row, n_col, i + 1)\n",
    "        plt.imshow(images[i].reshape((h, w)), cmap=plt.cm.gray)\n",
    "        plt.title(titles[i], size=12)\n",
    "        plt.xticks(())\n",
    "        plt.yticks(())\n",
    "\n",
    "plot_gallery(X, names[y], h, w) # defaults to showing a 3 by 6 subset of the faces"
   ]
  },
  {
   "cell_type": "markdown",
   "metadata": {},
   "source": [
    "## 3. Data Reduction"
   ]
  },
  {
   "cell_type": "code",
   "execution_count": null,
   "metadata": {},
   "outputs": [],
   "source": []
  },
  {
   "cell_type": "markdown",
   "metadata": {},
   "source": [
    "## 4. Exceptional Work"
   ]
  },
  {
   "cell_type": "code",
   "execution_count": null,
   "metadata": {},
   "outputs": [],
   "source": []
  }
 ],
 "metadata": {
  "kernelspec": {
   "display_name": "Python 3 (ipykernel)",
   "language": "python",
   "name": "python3"
  },
  "language_info": {
   "codemirror_mode": {
    "name": "ipython",
    "version": 3
   },
   "file_extension": ".py",
   "mimetype": "text/x-python",
   "name": "python",
   "nbconvert_exporter": "python",
   "pygments_lexer": "ipython3",
   "version": "3.9.12"
  }
 },
 "nbformat": 4,
 "nbformat_minor": 2
}
