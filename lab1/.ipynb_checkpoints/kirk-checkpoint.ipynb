{
 "cells": [
  {
   "cell_type": "markdown",
   "metadata": {},
   "source": [
    "# Lab One: Exploring Table Data\n",
    "\n",
    "Team: Brandon Vincitore, Miro Ronac, Kirk Watson"
   ]
  },
  {
   "cell_type": "markdown",
   "metadata": {},
   "source": [
    "## 1. Business Understanding "
   ]
  },
  {
   "cell_type": "markdown",
   "metadata": {},
   "source": [
    "This data can be useful in identifying trends in aviation accidents and assisting the prevention of accidents through pilot education or aircraft technology.\n",
    "\n",
    "Every year, the National Transportation Safety Board (NTSB) tracks and records details from every aviation accident in the United States and stores the data in a public database to allow for investigation. The focus of the NTSB is to ensure transportation safety and determining probable cause. When an accident occurs, the NTSB is notified and leads to an investigative process which entails on-site fact gathering, determination of probable cause, acceptance of a final report, and upload of details to the public database. The purpose of gathering this information is to allow the NTSB to advocate for the acceptance of safety recommendations that arise from investigations. The dataset utilized in this lab is a snippet of this database which consists of non-commercial aviation accidents that occured in the calendar year of 2019.\n",
    "\n",
    "According to the dataset being analyzed, there were over 1,000 non-commercial aviation accidents in the United States and 2019 alone. With such a high number of accidents in a dangerous form of transportation, it is important to bring to light common characteristics of aircraft accidents which could help with improving aviation safety.\n",
    "\n",
    "Ultimately, the ability to identify recurring characteristics of aviation accidents is the intention of analyzing this dataset. With these findings, pilots can understand when and where to expect increased risks during a flight. There could be an underlying pattern in accidents related to aircraft malfunctions or pilot errors. Developing a successful classification algorithm could help with reducing accidents, monetary damages, injuries, and most importantly, lives. Discovering accident trends can be utilized in aviation education and improving aircraft technology.\n",
    "\n",
    "#### Measure of Success\n",
    "\n",
    "In order to evaluate the success of a machine learning algorithm for this dataset, we must understand the stakeholders. Pilots, passengers, and airport employees are at risk of aircraft accidents and can benefit from safety improvements. In such cases where safety is a priority, it does not hurt to be overly cautious. With this being said, identifying minor or false accident trends could still prove to be helpful for aviation safety. On the other hand, being exceedingly careful could impede on efficiency with procedures and technology. The algorithm must be accurate enough to allow for improvements in safety while maintaining efficiency.\n",
    "\n",
    "ADD AN EXACT PERCENTAGE TO MEASURE SUCCESS BY\n",
    "\n",
    "Dataset Source: https://catalog.data.gov/dataset/national-transportation-safety-board-data/resource/4bb4fc29-f747-430e-89b5-b18aadf98edf "
   ]
  },
  {
   "cell_type": "markdown",
   "metadata": {},
   "source": [
    "## 2. Data Understanding"
   ]
  },
  {
   "cell_type": "code",
   "execution_count": null,
   "metadata": {},
   "outputs": [],
   "source": []
  },
  {
   "cell_type": "markdown",
   "metadata": {},
   "source": [
    "## 3. Data Visualization"
   ]
  },
  {
   "cell_type": "code",
   "execution_count": null,
   "metadata": {},
   "outputs": [],
   "source": []
  }
 ],
 "metadata": {
  "kernelspec": {
   "display_name": "Python 3 (ipykernel)",
   "language": "python",
   "name": "python3"
  },
  "language_info": {
   "codemirror_mode": {
    "name": "ipython",
    "version": 3
   },
   "file_extension": ".py",
   "mimetype": "text/x-python",
   "name": "python",
   "nbconvert_exporter": "python",
   "pygments_lexer": "ipython3",
   "version": "3.9.12"
  }
 },
 "nbformat": 4,
 "nbformat_minor": 2
}
