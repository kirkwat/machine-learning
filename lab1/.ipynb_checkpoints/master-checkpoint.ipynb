{
 "cells": [
  {
   "cell_type": "markdown",
   "metadata": {},
   "source": [
    "# Lab One: Exploring Table Data\n",
    "\n",
    "Team: Brandon Vincitore, Miro Ronac, Kirk Watson"
   ]
  },
  {
   "cell_type": "markdown",
   "metadata": {},
   "source": [
    "## 1. Business Understanding "
   ]
  },
  {
   "cell_type": "markdown",
   "metadata": {},
   "source": [
    "This data can be useful in identifying trends in aviation accidents and assisting the prevention of accidents through pilot education or aircraft technology.\n",
    "\n",
    "Every year, the National Transportation Safety Board (NTSB) tracks and records details from every aviation accident in the United States and stores the data in a public database to allow for investigation. The focus of the NTSB is to ensure transportation safety and determining probable cause. When an accident occurs, the NTSB is notified and leads to an investigative process which entails on-site fact gathering, determination of probable cause, acceptance of a final report, and upload of details to the public database. The purpose of gathering this information is to allow the NTSB to advocate for the acceptance of safety recommendations that arise from investigations. The dataset utilized in this lab is a snippet of this database which consists of non-commercial aviation accidents that occured in the calendar year of 2019.\n",
    "\n",
    "According to the dataset being analyzed, there were over 1,000 non-commercial aviation accidents in the United States and 2019 alone. With such a high number of accidents in a dangerous form of transportation, it is important to bring to light common characteristics of aircraft accidents which could help with improving aviation safety.\n",
    "\n",
    "Ultimately, the ability to identify recurring characteristics of aviation accidents is the intention of analyzing this dataset. With these findings, pilots can understand when and where to expect increased risks during a flight. There could be an underlying pattern in accidents related to aircraft malfunctions or pilot errors. Developing a successful classification algorithm could help with reducing accidents, monetary damages, injuries, and most importantly, fatalities. Discovering accident trends can be utilized in aviation education and improving aircraft technology.\n",
    "\n",
    "In order to evaluate the success of a machine learning algorithm for this dataset, we must understand the stakeholders. Pilots, passengers, and airport employees are at risk of aircraft accidents and can benefit from safety improvements. In such cases where safety is a priority, it does not hurt to be overly cautious. With this being said, identifying minor or false accident trends could still prove to be helpful for aviation safety. On the other hand, being exceedingly careful could impede on efficiency with procedures and technology. The algorithm must be accurate enough to allow for improvements in safety while maintaining efficiency.\n",
    "\n",
    "Dataset Source: https://catalog.data.gov/dataset/national-transportation-safety-board-data/resource/4bb4fc29-f747-430e-89b5-b18aadf98edf "
   ]
  },
  {
   "cell_type": "markdown",
   "metadata": {},
   "source": [
    "## 2. Data Understanding"
   ]
  },
  {
   "cell_type": "markdown",
   "metadata": {},
   "source": [
    "### 2.1 Data Description"
   ]
  },
  {
   "cell_type": "code",
   "execution_count": 3,
   "metadata": {},
   "outputs": [
    {
     "ename": "ModuleNotFoundError",
     "evalue": "No module named 'cartopy'",
     "output_type": "error",
     "traceback": [
      "\u001b[1;31m---------------------------------------------------------------------------\u001b[0m",
      "\u001b[1;31mModuleNotFoundError\u001b[0m                       Traceback (most recent call last)",
      "Input \u001b[1;32mIn [3]\u001b[0m, in \u001b[0;36m<cell line: 3>\u001b[1;34m()\u001b[0m\n\u001b[0;32m      1\u001b[0m \u001b[38;5;66;03m#importing necessary libraries\u001b[39;00m\n\u001b[0;32m      2\u001b[0m \u001b[38;5;28;01mimport\u001b[39;00m \u001b[38;5;21;01mpandas\u001b[39;00m \u001b[38;5;28;01mas\u001b[39;00m \u001b[38;5;21;01mpd\u001b[39;00m\n\u001b[1;32m----> 3\u001b[0m \u001b[38;5;28;01mimport\u001b[39;00m \u001b[38;5;21;01mcartopy\u001b[39;00m\n\u001b[0;32m      4\u001b[0m \u001b[38;5;28;01mimport\u001b[39;00m \u001b[38;5;21;01mnumpy\u001b[39;00m \u001b[38;5;28;01mas\u001b[39;00m \u001b[38;5;21;01mnp\u001b[39;00m\n\u001b[0;32m      5\u001b[0m \u001b[38;5;28;01mimport\u001b[39;00m \u001b[38;5;21;01mcartopy\u001b[39;00m\u001b[38;5;21;01m.\u001b[39;00m\u001b[38;5;21;01mcrs\u001b[39;00m \u001b[38;5;28;01mas\u001b[39;00m \u001b[38;5;21;01mccrs\u001b[39;00m\n",
      "\u001b[1;31mModuleNotFoundError\u001b[0m: No module named 'cartopy'"
     ]
    }
   ],
   "source": [
    "#importing necessary libraries\n",
    "import pandas as pd\n",
    "import cartopy\n",
    "import numpy as np\n",
    "import cartopy.crs as ccrs\n",
    "import matplotlib.pyplot as plt\n",
    "from cartopy.mpl.gridliner import LONGITUDE_FORMATTER, LATITUDE_FORMATTER"
   ]
  },
  {
   "cell_type": "markdown",
   "metadata": {},
   "source": [
    "###### Reading in data as Pandas dataframe"
   ]
  },
  {
   "cell_type": "code",
   "execution_count": null,
   "metadata": {},
   "outputs": [],
   "source": [
    "df = pd.read_csv('Data_GA.csv')\n",
    "\n",
    "df.head()"
   ]
  },
  {
   "cell_type": "code",
   "execution_count": null,
   "metadata": {},
   "outputs": [],
   "source": [
    "df.info()"
   ]
  },
  {
   "cell_type": "markdown",
   "metadata": {},
   "source": [
    "The info about shows that the data has a total of 1234 entries/accidents, 289 Fatal Injuries, and 231 Serious Injuries."
   ]
  },
  {
   "cell_type": "code",
   "execution_count": null,
   "metadata": {},
   "outputs": [],
   "source": [
    "df['AircraftCategory'].unique()"
   ]
  },
  {
   "cell_type": "markdown",
   "metadata": {},
   "source": [
    "Listed above are all the different aircraft categories covered in this dataset. Later we will explore which of these categories is the most risky and deadly."
   ]
  },
  {
   "cell_type": "code",
   "execution_count": null,
   "metadata": {},
   "outputs": [],
   "source": [
    "df['PhaseOfFlight'].unique()"
   ]
  },
  {
   "cell_type": "markdown",
   "metadata": {},
   "source": [
    "Listed above are all the different phases of flights that these accidents have occured in. Like Aircraft Category we will be exploring the Phase of Flight and finding which phase is the most risky and deadly."
   ]
  },
  {
   "cell_type": "markdown",
   "metadata": {},
   "source": [
    "### 2.2 Data Quality\n",
    "\n",
    "Given that this dataset comes from a well-maintained database, the formatting of text is consistent.\n",
    "\n",
    "However, there are some table attributes that contain missing values as shown in the visual below."
   ]
  },
  {
   "cell_type": "code",
   "execution_count": null,
   "metadata": {},
   "outputs": [],
   "source": [
    "import matplotlib\n",
    "import matplotlib.pyplot as plt\n",
    "import warnings\n",
    "warnings.simplefilter('ignore', DeprecationWarning)\n",
    "%matplotlib inline \n",
    "\n",
    "# External package: conda install missingno \n",
    "import missingno as mn\n",
    "\n",
    "mn.matrix(df)\n",
    "plt.title(\"Not Sorted\",fontsize=22)"
   ]
  },
  {
   "cell_type": "markdown",
   "metadata": {},
   "source": [
    "When looking at the FatalInjuries and SeriousInjuries columns, there is a considerable amount of missing data. These missing data values actually represent zero. For example, if an accident has no value for FatalInjuries, we can interpret that as zero fatal injuries. To make that clear, we will impute these values to 0.\n",
    "\n",
    "There are a few empty values in the StateOrRegion column. In these instances, the Country value is outside of the United States resulting in the StateOrRegion value not needed to be recorded. However, the accidents outside of the United States are out of the scope of this analsys, so they will be removed.\n",
    "\n",
    "There are also a few empty values in the FlightOperationType, DefiningEvent, Latitude, and Longitude columns. There are very few instances that are missing this values, so it won't take away from the quality of the dataset if they are removed. In addition, these values are unique characteristics that would be difficult to be imputed.\n",
    "\n",
    "Using the unique NTSBNumber for each accident, we can search for duplicates and remove them from the dataset.\n",
    "\n",
    "We will remove empty columns which include: FlightScheduledType, FlightTerminalType, FlightServiceType, and IntentionalAct. These columns were most likely associated with commericals flights which this dataset does not have.\n",
    "\n",
    "We will also remove columns that are not useful for our analyses which include:  NTSBNumber, AccidentReport, and RegulationFlightConductedUnder."
   ]
  },
  {
   "cell_type": "code",
   "execution_count": null,
   "metadata": {},
   "outputs": [],
   "source": [
    "# Make NaN values 0\n",
    "df.FatalInjuries = df.FatalInjuries.fillna(0)\n",
    "df.SeriousInjuries = df.SeriousInjuries.fillna(0)\n",
    "\n",
    "#remove duplicates\n",
    "df=df.drop_duplicates(subset=['NTSBNumber'], keep=\"first\")\n",
    "\n",
    "#remove rows outside of the united states\n",
    "df=df[(df.Country == 'United States') & (~df.StateOrRegion.isnull())]\n",
    "\n",
    "#remove rows with null values\n",
    "df=df[(~df.FlightOperationType.isnull()) & (~df.DefiningEvent.isnull())]\n",
    "\n",
    "#remove empty and non-useful columns\n",
    "for col in ['FlightScheduledType','FlightTerminalType','FlightServiceType','IntentionalAct','NTSBNumber','AccidentReport','RegulationFlightConductedUnder']:\n",
    "    if col in df:\n",
    "        del df[col]"
   ]
  },
  {
   "cell_type": "markdown",
   "metadata": {},
   "source": [
    "## 3. Data Visualization"
   ]
  },
  {
   "cell_type": "markdown",
   "metadata": {},
   "source": [
    "### 3.1 Data Exploration\n",
    "\n",
    "#### 3.1.1 Displaying the data on a map"
   ]
  },
  {
   "cell_type": "code",
   "execution_count": null,
   "metadata": {},
   "outputs": [],
   "source": [
    "%matplotlib notebook\n",
    "projection = ccrs.PlateCarree(); transform=ccrs.Geodetic()\n",
    "fig = plt.figure(figsize=(21,7))\n",
    "ax = plt.axes(projection=projection)\n",
    "\n",
    "months = np.zeros((len(df), 1))\n",
    "for i in range(len(df)):\n",
    "    try:    \n",
    "        x = int(df.AccidentDate[i][0] + df.AccidentDate[i][1])\n",
    "    except:\n",
    "        x = int(df.AccidentDate[i][0])\n",
    "    months[i,0] = x\n",
    "\n",
    "# Winter\n",
    "winter_1 = np.where(months >= 12)[0]; winter_2 = np.where(months <= 2)[0] \n",
    "ax.plot(df.Longitude[i], df.Latitude[i], 'ob', transform=transform, markersize=2.5, label='Winter')\n",
    "for i in winter_1:\n",
    "    ax.plot(df.Longitude[i], df.Latitude[i], 'ob', transform=transform, markersize=2.5)\n",
    "for j in winter_2:\n",
    "    ax.plot(df.Longitude[j], df.Latitude[j], 'ob', transform=transform, markersize=2.5)\n",
    "winter = np.hstack((winter_1, winter_2))\n",
    "\n",
    "# Spring\n",
    "spring = np.where((months >= 3) & (months <= 5))[0]\n",
    "ax.plot(df.Longitude[i], df.Latitude[i], 'og',transform=transform, markersize=2.5, label='Spring')\n",
    "for i in spring:\n",
    "    ax.plot(df.Longitude[i], df.Latitude[i], 'og', transform=transform, markersize=2.5)\n",
    "    \n",
    "# Summer\n",
    "summer = np.where((months >= 6) & (months <= 8))[0]\n",
    "ax.plot(df.Longitude[summer[0]], df.Latitude[summer[0]], 'oy', transform=transform, markersize=2.5, label='Summer')\n",
    "for i in summer:\n",
    "    ax.plot(df.Longitude[i], df.Latitude[i], 'oy', transform=transform, markersize=2.5)\n",
    "\n",
    "# Fall\n",
    "fall = np.where((months >= 9) & (months <= 11))[0]\n",
    "ax.plot(df.Longitude[fall[0]], df.Latitude[fall[0]], 'or', transform=transform, markersize=2.5, label='Fall')\n",
    "for i in fall:\n",
    "    ax.plot(df.Longitude[i], df.Latitude[i], 'or', transform=transform, markersize=2.5)\n",
    "\n",
    "    \n",
    "ax.coastlines()\n",
    "extent = (-125,-65, 47.5,25)\n",
    "ax.set_extent(extent, crs=ccrs.Geodetic())\n",
    "gl = ax.gridlines(crs=projection, draw_labels=True, linewidth=0)\n",
    "\n",
    "gl.xformatter = LONGITUDE_FORMATTER\n",
    "gl.yformatter = LATITUDE_FORMATTER\n",
    "\n",
    "ax.add_feature(cartopy.feature.LAKES, alpha=0.5)\n",
    "ax.add_feature(cartopy.feature.RIVERS, alpha=0.5)\n",
    "ax.add_feature(cartopy.feature.OCEAN, alpha=0.5)\n",
    "\n",
    "ax.add_feature(cartopy.feature.STATES, alpha=0.5, ls=':')\n",
    "ax.add_feature(cartopy.feature.BORDERS, alpha=0.2)\n",
    "ax.add_feature(cartopy.feature.LAND, alpha=0.2)\n",
    "ax.add_feature(cartopy.feature.COASTLINE)\n",
    "\n",
    "plt.legend(loc='lower right')\n",
    "plt.suptitle('U.S. Aircraft Accidents 2019', fontsize=20)"
   ]
  },
  {
   "cell_type": "markdown",
   "metadata": {},
   "source": [
    "Map plots locations of aircraft accidents as a function of season. There is no clear seasonal variation discernable in the figure. However, it is evident that accidents appear to be more heavily concentrated in cities (e.g., Los Angeles, San Francisco, New York City). Florida appears to have the highest number of accidents proportional to its surface area.\n",
    "\n",
    "### Assessing seasonal injury rates"
   ]
  },
  {
   "cell_type": "code",
   "execution_count": null,
   "metadata": {},
   "outputs": [],
   "source": [
    "%matplotlib notebook\n",
    "# Make NaN values 0\n",
    "df.FatalInjuries = df.FatalInjuries.fillna(0)\n",
    "\n",
    "fig = plt.figure(figsize=(6,6))\n",
    "\n",
    "ax1 = fig.add_subplot(1,1,1)\n",
    "\n",
    "season = ['Winter', 'Spring', 'Summer', 'Fall']\n",
    "x_axis = np.arange(len(season))\n",
    "\n",
    "serious = [df.SeriousInjuries[winter].sum(), df.SeriousInjuries[spring].sum(), df.SeriousInjuries[summer].sum(), df.SeriousInjuries[fall].sum()]\n",
    "fatal = [df.FatalInjuries[winter].sum(), df.FatalInjuries[spring].sum(), df.FatalInjuries[summer].sum(), df.FatalInjuries[fall].sum()]\n",
    "plt.bar(x_axis-0.2, serious, 0.4, label='Serious')\n",
    "plt.bar(x_axis+0.2, fatal, 0.4, label='Fatal')\n",
    "plt.xticks(x_axis, season)\n",
    "plt.xlabel('Season'); plt.ylabel('Number of Injuries')\n",
    "plt.legend(loc='upper right')\n",
    "plt.title('Injury Severity Rates')"
   ]
  },
  {
   "cell_type": "markdown",
   "metadata": {},
   "source": [
    "The bar chart above does show differences in accident and severity rates throughout the seasons. Summer is the highest in Serious and Fatal injuries compared to other seasons. Although, we believe this is due to the increase in the number of overall flights flown in the Summer and not weather conditions.\n",
    "\n",
    "\n",
    "## Assessing injury rates as a function of aircraft and phase of flight"
   ]
  },
  {
   "cell_type": "code",
   "execution_count": null,
   "metadata": {},
   "outputs": [],
   "source": [
    "%matplotlib notebook\n",
    "fig = plt.figure(figsize=(16,6))\n",
    "ax1 = fig.add_subplot(2,1,1)\n",
    "\n",
    "# first group the data\n",
    "df_grouped = df.groupby(by=['AircraftCategory'])\n",
    "# df_grouped.FatalInjuries = df_grouped.FatalInjuries.fillna(0)\n",
    "\n",
    "# tabulate mortality rates of each group\n",
    "serious = df_grouped.SeriousInjuries.sum() / df_grouped.SeriousInjuries.count()\n",
    "fatal = df_grouped.FatalInjuries.sum() / df_grouped.FatalInjuries.count()\n",
    "\n",
    "# show in a bar chart using builtin pandas API\n",
    "serious.plot(kind='barh', color='orange', label='Serious')\n",
    "fatal.plot(kind='barh', color='red', label='Fatal')\n",
    "plt.xlim([0,1.4])\n",
    "plt.legend(loc='upper right')\n",
    "\n",
    "ax2 = fig.add_subplot(2,1,2, sharex=ax1)\n",
    "\n",
    "# first group the data\n",
    "df_grouped = df.groupby(by=['PhaseOfFlight'])\n",
    "# df_grouped.FatalInjuries = df_grouped.FatalInjuries.fillna(0)\n",
    "\n",
    "# tabulate mortality rates of each group\n",
    "serious = df_grouped.SeriousInjuries.sum() / df_grouped.SeriousInjuries.count()\n",
    "fatal = df_grouped.FatalInjuries.sum() / df_grouped.FatalInjuries.count()\n",
    "\n",
    "# show in a bar chart using builtin pandas API\n",
    "# df_grouped.plot(kind='barh')\n",
    "serious.plot(kind='barh', color='orange', label='Serious')\n",
    "fatal.plot(kind='barh', color='red', label='Fatal')\n",
    "plt.legend(loc='lower right')\n",
    "\n",
    "plt.suptitle('Injury Percentages')"
   ]
  },
  {
   "cell_type": "markdown",
   "metadata": {},
   "source": [
    "Aircraft Category, each with their Injury Percentages, showed that the Powered parachute has the highest fatality rate. The glider came in second, and Airplanes came in a close Third. While Balloons had no fatalities, they did have the highest serious injury percentage. We think this is due to the slow speed at which balloons operate, resulting in a non-fatal impact most of the time."
   ]
  },
  {
   "cell_type": "markdown",
   "metadata": {},
   "source": [
    "The Phase of Flight that demonstrated the highest fatal injury percentage was an Uncontrolled Descent. An Uncontrolled Descent is most likely when a pilot stalls the airplane and enters it into an uncontrollable spiral spin towards the ground. The second highest was in an unknown phase of flight, and the third highest was on the initial climb. This graph is essential for pilots to look at and understand when most accidents happen while flying."
   ]
  },
  {
   "cell_type": "code",
   "execution_count": null,
   "metadata": {},
   "outputs": [],
   "source": []
  }
 ],
 "metadata": {
  "kernelspec": {
   "display_name": "Python 3 (ipykernel)",
   "language": "python",
   "name": "python3"
  },
  "language_info": {
   "codemirror_mode": {
    "name": "ipython",
    "version": 3
   },
   "file_extension": ".py",
   "mimetype": "text/x-python",
   "name": "python",
   "nbconvert_exporter": "python",
   "pygments_lexer": "ipython3",
   "version": "3.9.12"
  }
 },
 "nbformat": 4,
 "nbformat_minor": 2
}
