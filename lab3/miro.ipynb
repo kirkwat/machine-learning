{
 "cells": [
  {
   "cell_type": "markdown",
   "id": "d1ffbf41",
   "metadata": {},
   "source": [
    "# Lab 3: Extending Logistic Regression"
   ]
  },
  {
   "cell_type": "code",
   "execution_count": 1,
   "id": "7db54406",
   "metadata": {},
   "outputs": [],
   "source": [
    "import pandas as pd\n",
    "import numpy as np\n",
    "import matplotlib.pyplot as plt\n",
    "from sklearn.decomposition import PCA\n",
    "from sklearn.preprocessing import StandardScaler"
   ]
  },
  {
   "cell_type": "markdown",
   "id": "e3242b22",
   "metadata": {},
   "source": [
    "## Dataset Preparation"
   ]
  },
  {
   "cell_type": "code",
   "execution_count": 38,
   "id": "ea67566d",
   "metadata": {},
   "outputs": [
    {
     "name": "stdout",
     "output_type": "stream",
     "text": [
      "   Diabetes_012  HighBP  HighChol  CholCheck   BMI  Smoker  Stroke  \\\n",
      "0           0.0     1.0       1.0        1.0  40.0     1.0     0.0   \n",
      "1           0.0     0.0       0.0        0.0  25.0     1.0     0.0   \n",
      "2           0.0     1.0       1.0        1.0  28.0     0.0     0.0   \n",
      "3           0.0     1.0       0.0        1.0  27.0     0.0     0.0   \n",
      "4           0.0     1.0       1.0        1.0  24.0     0.0     0.0   \n",
      "\n",
      "   HeartDiseaseorAttack  PhysActivity  Fruits  ...  AnyHealthcare  \\\n",
      "0                   0.0           0.0     0.0  ...            1.0   \n",
      "1                   0.0           1.0     0.0  ...            0.0   \n",
      "2                   0.0           0.0     1.0  ...            1.0   \n",
      "3                   0.0           1.0     1.0  ...            1.0   \n",
      "4                   0.0           1.0     1.0  ...            1.0   \n",
      "\n",
      "   NoDocbcCost  GenHlth  MentHlth  PhysHlth  DiffWalk  Sex   Age  Education  \\\n",
      "0          0.0      5.0      18.0      15.0       1.0  0.0   9.0        4.0   \n",
      "1          1.0      3.0       0.0       0.0       0.0  0.0   7.0        6.0   \n",
      "2          1.0      5.0      30.0      30.0       1.0  0.0   9.0        4.0   \n",
      "3          0.0      2.0       0.0       0.0       0.0  0.0  11.0        3.0   \n",
      "4          0.0      2.0       3.0       0.0       0.0  0.0  11.0        5.0   \n",
      "\n",
      "   Income  \n",
      "0     3.0  \n",
      "1     1.0  \n",
      "2     8.0  \n",
      "3     6.0  \n",
      "4     4.0  \n",
      "\n",
      "[5 rows x 22 columns]\n",
      "Index(['Diabetes_012', 'HighBP', 'HighChol', 'CholCheck', 'BMI', 'Smoker',\n",
      "       'Stroke', 'HeartDiseaseorAttack', 'PhysActivity', 'Fruits', 'Veggies',\n",
      "       'HvyAlcoholConsump', 'AnyHealthcare', 'NoDocbcCost', 'GenHlth',\n",
      "       'MentHlth', 'PhysHlth', 'DiffWalk', 'Sex', 'Age', 'Education',\n",
      "       'Income'],\n",
      "      dtype='object')\n"
     ]
    }
   ],
   "source": [
    "df = pd.read_csv('Diabetes_Dataset/diabetes_012_health_indicators_BRFSS2015.csv')\n",
    "print(df.head())\n",
    "print(df.columns)"
   ]
  },
  {
   "cell_type": "code",
   "execution_count": 39,
   "id": "df2b810c",
   "metadata": {},
   "outputs": [
    {
     "name": "stdout",
     "output_type": "stream",
     "text": [
      "        NoDiabetes  PreDiabetes  Diabetes  HighBP  HighChol  CholCheck   BMI  \\\n",
      "0              1.0          0.0       0.0     1.0       1.0        1.0  40.0   \n",
      "1              1.0          0.0       0.0     0.0       0.0        0.0  25.0   \n",
      "2              1.0          0.0       0.0     1.0       1.0        1.0  28.0   \n",
      "3              1.0          0.0       0.0     1.0       0.0        1.0  27.0   \n",
      "4              1.0          0.0       0.0     1.0       1.0        1.0  24.0   \n",
      "...            ...          ...       ...     ...       ...        ...   ...   \n",
      "253675         1.0          0.0       0.0     1.0       1.0        1.0  45.0   \n",
      "253676         0.0          0.0       1.0     1.0       1.0        1.0  18.0   \n",
      "253677         1.0          0.0       0.0     0.0       0.0        1.0  28.0   \n",
      "253678         1.0          0.0       0.0     1.0       0.0        1.0  23.0   \n",
      "253679         0.0          0.0       1.0     1.0       1.0        1.0  25.0   \n",
      "\n",
      "        Smoker  Stroke  HeartDiseaseorAttack  ...  AnyHealthcare  NoDocbcCost  \\\n",
      "0          1.0     0.0                   0.0  ...            1.0          0.0   \n",
      "1          1.0     0.0                   0.0  ...            0.0          1.0   \n",
      "2          0.0     0.0                   0.0  ...            1.0          1.0   \n",
      "3          0.0     0.0                   0.0  ...            1.0          0.0   \n",
      "4          0.0     0.0                   0.0  ...            1.0          0.0   \n",
      "...        ...     ...                   ...  ...            ...          ...   \n",
      "253675     0.0     0.0                   0.0  ...            1.0          0.0   \n",
      "253676     0.0     0.0                   0.0  ...            1.0          0.0   \n",
      "253677     0.0     0.0                   0.0  ...            1.0          0.0   \n",
      "253678     0.0     0.0                   0.0  ...            1.0          0.0   \n",
      "253679     0.0     0.0                   1.0  ...            1.0          0.0   \n",
      "\n",
      "        GenHlth  MentHlth  PhysHlth  DiffWalk  Sex   Age  Education  Income  \n",
      "0           5.0      18.0      15.0       1.0  0.0   9.0        4.0     3.0  \n",
      "1           3.0       0.0       0.0       0.0  0.0   7.0        6.0     1.0  \n",
      "2           5.0      30.0      30.0       1.0  0.0   9.0        4.0     8.0  \n",
      "3           2.0       0.0       0.0       0.0  0.0  11.0        3.0     6.0  \n",
      "4           2.0       3.0       0.0       0.0  0.0  11.0        5.0     4.0  \n",
      "...         ...       ...       ...       ...  ...   ...        ...     ...  \n",
      "253675      3.0       0.0       5.0       0.0  1.0   5.0        6.0     7.0  \n",
      "253676      4.0       0.0       0.0       1.0  0.0  11.0        2.0     4.0  \n",
      "253677      1.0       0.0       0.0       0.0  0.0   2.0        5.0     2.0  \n",
      "253678      3.0       0.0       0.0       0.0  1.0   7.0        5.0     1.0  \n",
      "253679      2.0       0.0       0.0       0.0  0.0   9.0        6.0     2.0  \n",
      "\n",
      "[253680 rows x 24 columns]\n"
     ]
    }
   ],
   "source": [
    "# Creating target features by modifying first column in original dataframe such that we have 3 features consisting of binary values for\n",
    "# no diabetes, prediabetes, and diabetes where 0 is False and 1 is True\n",
    "target_array = np.zeros((len(df),4))\n",
    "for i in range(len(df)):\n",
    "    target_array[i,0] = df['Diabetes_012'].values[i]\n",
    "for i in range(len(target_array)):\n",
    "    # no diabetes\n",
    "    if target_array[i,0] == 0:\n",
    "        target_array[i,1] = 1\n",
    "    # prediabetes\n",
    "    if target_array[i,0] == 1:\n",
    "        target_array[i,2] = 1\n",
    "    # diabetes\n",
    "    if target_array[i,0] == 2:\n",
    "        target_array[i,3] = 1\n",
    "\n",
    "# Adding new target columns to original dataframe\n",
    "target_columns = ['NoDiabetes', 'PreDiabetes', 'Diabetes']\n",
    "for i in range(target_array.shape[1]-1):\n",
    "    df.insert(i, target_columns[i], target_array[:,1:][:,i], True)\n",
    "df_target = df.drop('Diabetes_012', axis=1)\n",
    "print(df_target)"
   ]
  },
  {
   "cell_type": "code",
   "execution_count": 40,
   "id": "17879d0e",
   "metadata": {},
   "outputs": [],
   "source": [
    "# Need to remove the target column of diabetes in original dataframe\n",
    "columns = list(df_target.columns)\n",
    "targets = ['NoDiabetes', 'PreDiabetes', 'Diabetes']\n",
    "for col in targets:\n",
    "    columns.remove(col)\n",
    "    \n",
    "# Splitting dataset\n",
    "from sklearn.model_selection import train_test_split\n",
    "\n",
    "train, test = train_test_split(df, test_size=.20, random_state=42, shuffle=True)\n",
    "\n",
    "X_test  = test[columns].to_numpy()\n",
    "X_train = train[columns].to_numpy()\n",
    "y_test  = {}\n",
    "y_train = {}\n",
    "\n",
    "for col in targets:\n",
    "    y_test[col]  = test[col].to_numpy()\n",
    "    y_train[col] = train[col].to_numpy()"
   ]
  },
  {
   "cell_type": "markdown",
   "id": "328bd809",
   "metadata": {},
   "source": [
    "## Modeling"
   ]
  },
  {
   "cell_type": "code",
   "execution_count": null,
   "id": "9ef91b8e",
   "metadata": {},
   "outputs": [],
   "source": []
  }
 ],
 "metadata": {
  "kernelspec": {
   "display_name": "Python 3",
   "language": "python",
   "name": "python3"
  },
  "language_info": {
   "codemirror_mode": {
    "name": "ipython",
    "version": 3
   },
   "file_extension": ".py",
   "mimetype": "text/x-python",
   "name": "python",
   "nbconvert_exporter": "python",
   "pygments_lexer": "ipython3",
   "version": "3.8.8"
  }
 },
 "nbformat": 4,
 "nbformat_minor": 5
}
